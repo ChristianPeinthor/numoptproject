{
  "cells": [
    {
      "cell_type": "markdown",
      "metadata": {
        "id": "6kZ8wEbZnBnQ",
        "pycharm": {
          "name": "#%% md\n"
        }
      },
      "source": [
        "**Project 1 Phase 2**<br>\n",
        "<br>\n",
        "<table style=\"width:100%\">\n",
        "  <tr>\n",
        "    <th style = \"text-align: left\">#</th>\n",
        "    <th style = \"text-align: left\">Name</th>\n",
        "    <th style = \"text-align: left\">Lastname</th>\n",
        "    <th style = \"text-align: left\">Matr Number</th>\n",
        "  </tr>\n",
        "  <tr>\n",
        "    <td style = \"text-align: left\">1</td>\n",
        "    <td style = \"text-align: left\">Christian</td>\n",
        "    <td style = \"text-align: left\">Peinthor</td>\n",
        "    <td style = \"text-align: left\">11815592</td>\n",
        "  </tr>\n",
        "  <tr>\n",
        "    <td style = \"text-align: left\">2</td>\n",
        "    <td style = \"text-align: left\">Michael</td>\n",
        "    <td style = \"text-align: left\">Weikl</td>\n",
        "    <td style = \"text-align: left\">1154652</td>\n",
        "  </tr>\n",
        "  <tr>\n",
        "    <td style = \"text-align: left\">2</td>\n",
        "    <td style = \"text-align: left\">Uros</td>\n",
        "    <td style = \"text-align: left\">Zivanovic</td>\n",
        "    <td style = \"text-align: left\">12032271</td>\n",
        "  </tr>\n",
        "  \n",
        "</table>\n",
        "<br>"
      ]
    },
    {
      "cell_type": "markdown",
      "metadata": {
        "pycharm": {
          "name": "#%% md\n"
        },
        "id": "cWR7-stWtMKY"
      },
      "source": [
        "# Table of contents\n",
        "* [Problemdefinition](#Problemdefinition)\n",
        "* [Basic functions](#Basic-functions)\n",
        "    * [Stopping Criterion](#Stopping-Criterion)\n",
        "    * [Backtracking](#Backtracking)\n",
        "    * [Wolfe Condition](#Wolfe-Condition)\n",
        "    * [Derivation (Taylor-Theorem)](Derivation-(Taylor-Theorem))\n",
        "* [Implementation of the algorithms](#Implementation-of-the-algorithms)\n",
        "    * [Steepest descent](#Steepest-descent)\n",
        "    * [Newthon method](#Newthon-method)\n",
        "    * [Fetcher Reeves](#Fetcher-Reeves)\n",
        "    * [SR1](#SR1)\n",
        "* [Executions](#Executions)\n"
      ]
    },
    {
      "cell_type": "code",
      "execution_count": 1,
      "metadata": {
        "id": "KwrOzH2PmHIH",
        "pycharm": {
          "name": "#%%\n"
        }
      },
      "outputs": [],
      "source": [
        "import numpy as np\n",
        "import scipy \n",
        "import pandas as pd\n",
        "from matplotlib import pyplot as plt\n",
        "import seaborn as sns\n",
        "from numpy.linalg import *"
      ]
    },
    {
      "cell_type": "markdown",
      "metadata": {
        "pycharm": {
          "name": "#%% md\n"
        },
        "id": "fZOIg4IUtMKZ"
      },
      "source": [
        "# Problem Definitions"
      ]
    },
    {
      "cell_type": "markdown",
      "metadata": {
        "id": "PqP_WueRyEc-",
        "pycharm": {
          "name": "#%% md\n"
        }
      },
      "source": [
        "Basic Problem class to set up problems for the algorithms to be solved."
      ]
    },
    {
      "cell_type": "code",
      "execution_count": 2,
      "metadata": {
        "id": "eNaoAtoPmPM-",
        "pycharm": {
          "name": "#%%\n"
        }
      },
      "outputs": [],
      "source": [
        "class Problem():\n",
        "    def f(self, x):\n",
        "        raise NotImplementedError(\"f() is not implemented for this Problem\")\n",
        "    \n",
        "    def grad_f(self, x):\n",
        "        raise NotImplementedError(\"grad_f() is not implemented for this Problem\")\n",
        "            \n",
        "    def hessian(self, x):\n",
        "        raise NotImplementedError(\"hessian() is not implemented for this Problem\")      \n",
        "        "
      ]
    },
    {
      "cell_type": "markdown",
      "metadata": {
        "pycharm": {
          "name": "#%% md\n"
        },
        "id": "RDWbLF71tMKZ"
      },
      "source": [
        "## Polynomials"
      ]
    },
    {
      "cell_type": "code",
      "execution_count": 3,
      "metadata": {
        "pycharm": {
          "name": "#%%\n"
        },
        "id": "SVUQBaXStMKa"
      },
      "outputs": [],
      "source": [
        " class PolynomialProblem(Problem):\n",
        "        @property\n",
        "        def actual_minima(self):\n",
        "            raise NotImplementedError(\"actual_minima() is not implemented for this Problem\")      \n",
        "\n",
        "\n",
        "############################################################\n",
        "#                Polynomial definitions\n",
        "############################################################\n",
        "class Himmelblau(PolynomialProblem):\n",
        "    def f(self, x):\n",
        "        return (x[0] ** 2 + x[1] - 11) ** 2 + (x[0] + x[1] ** 2 - 7) ** 2\n",
        "    \n",
        "    def grad_f(self, x):\n",
        "        return np.array([4*x[0]*(x[0]**2 + x[1] - 11)+2*(x[0] + x[1]**2 - 7),\n",
        "                         4*x[1]*(x[1]**2 + x[0] - 7)+2*(x[1] + x[0]**2 - 11)])\n",
        "    \n",
        "    def hessian(self, x):\n",
        "        return np.array([[12*x[0]**2 + 4*x[1] - 42, \n",
        "                          4*(x[1] + x[0])],\n",
        "                         [4*(x[1] + x[0]),\n",
        "                          12*x[1]**2 + 4*x[0] - 26]])\n",
        "    \n",
        "    @property\n",
        "    def actual_minima(self):\n",
        "        return np.array([[3,2], \n",
        "                         [-2.805118, 3.131312], \n",
        "                         [-3.779310, -3.283186], \n",
        "                         [3.584428, -1.848126]])\n",
        "\n",
        "    \n",
        "class Polynomial1(PolynomialProblem):\n",
        "    def f(self, x):\n",
        "        return ((x - 7)**2 * (x - 3)**2) / 4\n",
        "    \n",
        "    def grad_f(self, x):\n",
        "        return (x - 7) * (x - 5) * (x - 3)\n",
        "    \n",
        "    def hessian(self, x):\n",
        "        return 3 * x**2 - 30 * x + 71\n",
        "    \n",
        "    @property\n",
        "    def actual_minima(self):\n",
        "        return np.array([[3],[5],[7]])\n",
        "\n",
        "    \n",
        "class Rosenbrock(PolynomialProblem):\n",
        "    def f(self, x):\n",
        "        return 100*(x[1] - x[0]**2)**2 + (1 - x[0])**2\n",
        "\n",
        "    def grad_f(self, x):\n",
        "        return np.array([-400*x[0]*(x[1] - x[0]**2) - 2*(1 - x[0]),\n",
        "                         200*(x[1] - x[0]**2)])\n",
        "\n",
        "    def hessian(self, x):\n",
        "        return np.array([[-400*(x[1] - 3*x[0]**2) + 2, \n",
        "                          -400*x[0]],\n",
        "                         [-400*x[0], \n",
        "                          200]])\n",
        "    \n",
        "    @property\n",
        "    def actual_minima(self):\n",
        "        return np.array([1,1])\n",
        "\n",
        "\n",
        "#this is the function below rosenbrock defined in the project description\n",
        "class Function2(PolynomialProblem):\n",
        "    def f(self, x):\n",
        "        return 150*(x[0] * x[1])**2 + (0.5 * x[0] + 2 * x[1] - 2)**2\n",
        "    \n",
        "    def grad_f(self, x):\n",
        "        return np.array([x[0] * (300 * x[1]**2 + 0.5) + 2 * x[1] - 2, 300*x[0]**2 * x[1] + 2 * x[0] + 8 * x[1] - 8])\n",
        "\n",
        "    def hessian(self, x):\n",
        "        return np.array([[300 * x[1]**2 + 0.5, 600 * x[0]*x[1] + 2],[600 * x[0]*x[1] + 2, 300 * x[0]**2 + 8]])\n",
        "\n",
        "    #self calculated minima\n",
        "    @property\n",
        "    def actual_minima(self):\n",
        "        return np.array([[0,1],[4,0]])"
      ]
    },
    {
      "cell_type": "markdown",
      "metadata": {
        "pycharm": {
          "name": "#%% md\n"
        },
        "id": "p64C_x0ftMKa"
      },
      "source": [
        "## Squared Error"
      ]
    },
    {
      "cell_type": "code",
      "execution_count": 4,
      "metadata": {
        "pycharm": {
          "name": "#%%\n"
        },
        "id": "ZzgyIhC2tMKa"
      },
      "outputs": [],
      "source": [
        "# Helper functions for squared error problems\n",
        "def normal_distributed_data_points(target_function, q: float, num_points: int):\n",
        "    # bring normal distributed value from range [0, 1] to  [-q, q]\n",
        "    return distributed_data_points(target_function=target_function, q=q, num_points=num_points,\n",
        "                                   distribution=lambda r: (np.random.normal(0, scale=2 * r) - r))\n",
        "\n",
        "\n",
        "def uniform_distributed_data_points(target_function, q: float, num_points: int):\n",
        "    return distributed_data_points(target_function=target_function, q=q, num_points=num_points,\n",
        "                                   distribution=lambda r: np.random.uniform(low=-r, high=r))\n",
        "\n",
        "\n",
        "def distributed_data_points(target_function, q: float, num_points: int, distribution):\n",
        "    result_list = []\n",
        "\n",
        "    for _ in range(num_points):\n",
        "        val = distribution(abs(q))\n",
        "        result_list.append((val, target_function(val)))\n",
        "\n",
        "    return result_list"
      ]
    },
    {
      "cell_type": "code",
      "execution_count": 5,
      "metadata": {
        "pycharm": {
          "name": "#%%\n"
        },
        "id": "_i-6h19GtMKb"
      },
      "outputs": [],
      "source": [
        "class SquaredErrorProblem(Problem):\n",
        "    def __init__(self, target_function,\n",
        "                 q: int = 2, num_points: int = 100, degree: int = 5,\n",
        "                 random_seed: int = 1154652, distribution='uniform'):\n",
        "        if distribution == 'uniform':\n",
        "            self.data = uniform_distributed_data_points(target_function=target_function, q=q, num_points=num_points)\n",
        "        elif distribution == 'normal':\n",
        "            self.data = normal_distributed_data_points(target_function=target_function, q=q, num_points=num_points)\n",
        "        else:\n",
        "            raise NotImplementedError(\n",
        "                f\"Functionality not implemented for ditribution type '{distribution}'. Use 'uniform' or 'normal'.\")\n",
        "\n",
        "        self.coefficients = []\n",
        "        for j in range(num_points):\n",
        "            a_j = self.data[j][0]\n",
        "            c_j = np.reshape([a_j ** i for i in range(degree + 1)], (degree + 1, 1))\n",
        "            self.coefficients.append(c_j)\n",
        "\n",
        "        self.target_function = target_function\n",
        "\n",
        "    def __residual(self, x, j):\n",
        "        a_j = self.data[j][0]\n",
        "        b_j = self.data[j][1]\n",
        "        c_j = self.coefficients[j]\n",
        "\n",
        "        return c_j.T @ x - b_j\n",
        "\n",
        "    def f(self, x):\n",
        "        return 1 / 2 * np.sum([self.__residual(x, j) ** 2 for j in range(len(self.data))])\n",
        "\n",
        "    def grad_f(self, x):\n",
        "        return np.sum([self.__residual(x, j) * self.coefficients[j] for j in range(len(self.data))], axis=0)\n",
        "\n",
        "    def hessian(self, x):\n",
        "        return np.sum([self.coefficients[j] @ self.coefficients[j].T for j in range(len(self.data))], axis=0)\n",
        "\n",
        "\n",
        "############################################################\n",
        "#              Squared Error Problem Definition\n",
        "############################################################\n",
        "\n",
        "class SinusSQEP(SquaredErrorProblem):\n",
        "    def __init__(self, q: int = 2, num_points: int = 100, degree: int = 5,\n",
        "                 random_seed: int = 1154652, distribution='uniform'):\n",
        "        super().__init__(lambda x: np.sin(x), q, num_points, degree, random_seed, distribution)\n",
        "\n",
        "\n",
        "class CosinusSQEP(SquaredErrorProblem):\n",
        "    def __init__(self, q: int = 2, num_points: int = 100, degree: int = 5,\n",
        "                 random_seed: int = 1154652, distribution='uniform'):\n",
        "        super().__init__(lambda x: np.cos(x), q, num_points, degree, random_seed, distribution)\n",
        "\n",
        "\n",
        "class SinusMinusCosinusSQEP(SquaredErrorProblem):\n",
        "    def __init__(self, q: int = 2, num_points: int = 100, degree: int = 5,\n",
        "                 random_seed: int = 1154652, distribution='uniform'):\n",
        "        super().__init__(lambda x: np.sin(x) - np.cos(x), q, num_points, degree, random_seed, distribution)\n",
        "\n",
        "\n",
        "class CubePlusSquareSQEP(SquaredErrorProblem):\n",
        "    def __init__(self, q: int = 2, num_points: int = 100, degree: int = 5,\n",
        "                 random_seed: int = 1154652, distribution='uniform'):\n",
        "        super().__init__(lambda x: x ** 3 + x ** 2, q, num_points, degree, random_seed, distribution)\n",
        "\n",
        "\n",
        "class SinusPlusCosinusSQEP(SquaredErrorProblem):\n",
        "    def __init__(self, q: int = 2, num_points: int = 100, degree: int = 5,\n",
        "                 random_seed: int = 1154652, distribution='uniform'):\n",
        "        super().__init__(lambda x: 3 * np.sin(x) + np.cos(x), q, num_points, degree, random_seed, distribution)"
      ]
    },
    {
      "cell_type": "markdown",
      "metadata": {
        "pycharm": {
          "name": "#%% md\n"
        },
        "id": "hPmqAhmDtMKb"
      },
      "source": [
        "# Basic functions"
      ]
    },
    {
      "cell_type": "markdown",
      "metadata": {
        "pycharm": {
          "name": "#%% md\n"
        },
        "id": "J-tL_LhGtMKb"
      },
      "source": [
        "## Stopping Criterion"
      ]
    },
    {
      "cell_type": "markdown",
      "metadata": {
        "pycharm": {
          "name": "#%% md\n"
        },
        "id": "Eyd8sRletMKc"
      },
      "source": [
        "This implements a stopping criterion for when the gradient of f at xk is small relative to the gradient of f at x0\n",
        "Also a maxmimum number of iterations is implemented."
      ]
    },
    {
      "cell_type": "code",
      "execution_count": 6,
      "metadata": {
        "pycharm": {
          "name": "#%%\n"
        },
        "id": "SEmE0cXbtMKc"
      },
      "outputs": [],
      "source": [
        "def stop_crit(grad_f, xk, x0, current_iteration, tol: float = 1e-8, max_iter: int = 1000):\n",
        "    if current_iteration > max_iter:\n",
        "        return True\n",
        "    elif norm(grad_f(xk)) <= tol * norm(grad_f(x0)):\n",
        "        return True\n",
        "    return False"
      ]
    },
    {
      "cell_type": "markdown",
      "metadata": {
        "pycharm": {
          "name": "#%% md\n"
        },
        "id": "CgoJj9BytMKc"
      },
      "source": [
        "## Backtracking"
      ]
    },
    {
      "cell_type": "markdown",
      "metadata": {
        "pycharm": {
          "name": "#%% md\n"
        },
        "id": "Wke17x63tMKc"
      },
      "source": [
        "Backtracking linesearch to find suitable step length as described in the book. steepest_descent() implements the line search steepest descent method."
      ]
    },
    {
      "cell_type": "code",
      "execution_count": 7,
      "metadata": {
        "pycharm": {
          "name": "#%%\n"
        },
        "id": "3CeCKguetMKc"
      },
      "outputs": [],
      "source": [
        "def backtracking_alpha(f, grad_f, xk, pk, alpha0=1, rho=0.95, c=1e-4):\n",
        "    alpha = alpha0\n",
        "    f_xk = f(xk)\n",
        "    grad_f_xk = grad_f(xk)\n",
        "\n",
        "    while f(xk + alpha * pk) > (f_xk + c * alpha * grad_f_xk.T @ pk):\n",
        "        alpha *= rho\n",
        "\n",
        "    return alpha"
      ]
    },
    {
      "cell_type": "markdown",
      "metadata": {
        "pycharm": {
          "name": "#%% md\n"
        },
        "id": "o1UiTMultMKc"
      },
      "source": [
        "## Wolfe Condition"
      ]
    },
    {
      "cell_type": "markdown",
      "metadata": {
        "pycharm": {
          "name": "#%% md\n"
        },
        "id": "pd8CoXCftMKc"
      },
      "source": [
        "alpha_wolfe() returns a step length satisfiying the weak wolfe conditions using a bisection approach as described in https://sites.math.washington.edu/~burke/crs/408/notes/nlp/line.pdf. newton_method() implements the line search Newton method solving the equation H @ pk = -grad instead of computing the inverse of H."
      ]
    },
    {
      "cell_type": "code",
      "execution_count": 8,
      "metadata": {
        "pycharm": {
          "name": "#%%\n"
        },
        "id": "t5WXjGhbtMKd"
      },
      "outputs": [],
      "source": [
        "def alpha_wolfe(f, grad_f, xk, pk, c1=1e-4, c2=0.9):\n",
        "    alpha = 0\n",
        "    beta = np.Inf\n",
        "    t = 1\n",
        "\n",
        "    while True:\n",
        "        if f(xk + t * pk) > (f(xk) + c1 * t * (pk.T @ grad_f(xk))):\n",
        "            beta = t\n",
        "            t = 0.5 * (alpha + beta)\n",
        "        elif (-pk.T @ grad_f(xk + t * pk)) > (-c2 * pk.T @ grad_f(xk)):\n",
        "            alpha = t\n",
        "            t = (2 * alpha if beta == np.Inf else 0.5 * (alpha + beta))\n",
        "        else:\n",
        "            return t"
      ]
    },
    {
      "cell_type": "markdown",
      "metadata": {
        "pycharm": {
          "name": "#%% md\n"
        },
        "id": "XBtX12UntMKd"
      },
      "source": [
        "## Derivation (Taylor Theorem)"
      ]
    },
    {
      "cell_type": "markdown",
      "metadata": {
        "pycharm": {
          "name": "#%% md\n"
        },
        "id": "C3HEFCT-tMKd"
      },
      "source": [
        "This implements the forward difference approach from the book for gradient and hessian calculation without explicit function knowledge."
      ]
    },
    {
      "cell_type": "code",
      "execution_count": 9,
      "metadata": {
        "pycharm": {
          "name": "#%%\n"
        },
        "id": "l9F5oNVRtMKd"
      },
      "outputs": [],
      "source": [
        "def e_i(size, index):\n",
        "    arr = np.zeros(size)\n",
        "    arr[index] = 1.0\n",
        "    return arr\n",
        "\n",
        "\n",
        "# these return the function that computes the gradient, which can then in turn be called to compute the gradient\n",
        "def approx_grad(f, e=1.1e-8):\n",
        "    def grad_f(x):\n",
        "        if x.size == 1:\n",
        "            return (f(x + e) - f(x)) / e\n",
        "        return np.array([(f(x + e * e_i(x.size, i)) - f(x)) / e for i in range(x.size)])\n",
        "\n",
        "    return grad_f\n",
        "\n",
        "\n",
        "def approx_hessian(f, e=1.1e-8):\n",
        "    def hessian_f(x):\n",
        "        if x.size == 1:\n",
        "            return (f(x + 2 * e) - 2 * f(x + e) + f(x)) / e ** 2\n",
        "        return np.array([[(f(x + e * e_i(x.size, i) + e * e_i(x.size, j)) - f(\n",
        "            x + e * e_i(x.size, i)) - f(x + e * e_i(x.size, j)) + f(\n",
        "            x)) / e ** 2 for j in range(x.size)] for i in range(x.size)])\n",
        "\n",
        "    return hessian_f"
      ]
    },
    {
      "cell_type": "markdown",
      "metadata": {
        "pycharm": {
          "name": "#%% md\n"
        },
        "id": "TX6_7-73tMKd"
      },
      "source": [
        "# Implementation of the algorithms"
      ]
    },
    {
      "cell_type": "markdown",
      "metadata": {
        "pycharm": {
          "name": "#%% md\n"
        },
        "id": "BkTRXQsBtMKd"
      },
      "source": [
        "## Steepest descent"
      ]
    },
    {
      "cell_type": "code",
      "execution_count": 10,
      "metadata": {
        "pycharm": {
          "name": "#%%\n"
        },
        "id": "QZq1aeHOtMKe"
      },
      "outputs": [],
      "source": [
        "def steepest_descent(x0, f, grad_f=None, initial_alpha: float = 1e-3, tolerance: float = 1e-8):\n",
        "    if grad_f == None:\n",
        "        grad_f = approx_grad(f)\n",
        "\n",
        "    i = 1\n",
        "    xk = x0\n",
        "    search_alpha, alpha, pk = None, None, None\n",
        "\n",
        "    while not stop_crit(grad_f, xk, x0, i, tol=tolerance):\n",
        "\n",
        "        if search_alpha is None:\n",
        "            search_alpha = initial_alpha\n",
        "            pk = -grad_f(xk)\n",
        "        else:\n",
        "            new_pk = -grad_f(xk)\n",
        "            search_alpha = alpha * (-pk.T @ pk) / (-new_pk.T @ new_pk)\n",
        "            pk = new_pk\n",
        "\n",
        "        alpha = backtracking_alpha(f, grad_f, xk, pk)\n",
        "        xk = xk + alpha * pk\n",
        "\n",
        "        i += 1\n",
        "\n",
        "    return xk, i"
      ]
    },
    {
      "cell_type": "markdown",
      "metadata": {
        "pycharm": {
          "name": "#%% md\n"
        },
        "id": "MbGDFALxtMKe"
      },
      "source": [
        "## Newton method"
      ]
    },
    {
      "cell_type": "code",
      "execution_count": 11,
      "metadata": {
        "pycharm": {
          "name": "#%%\n"
        },
        "id": "AqhH1t2GtMKe"
      },
      "outputs": [],
      "source": [
        "def newton_method(x0, f, grad_f=None, hessian_f=None, tolerance=1e-8):\n",
        "    if grad_f == None:\n",
        "        grad_f = approx_grad(f)\n",
        "        hessian_f = approx_hessian(f)\n",
        "    i = 1\n",
        "    x = x0\n",
        "\n",
        "    while not stop_crit(grad_f, x, x0, i, tol=tolerance):\n",
        "        pk = np.array([- (1 / hessian_f(x)) @ grad_f(x)]) if x.size == 1 else solve(hessian_f(x), -grad_f(x))\n",
        "        x = x + alpha_wolfe(f, grad_f, x, pk) * pk\n",
        "        i += 1\n",
        "\n",
        "    #print(f\"\\n Search terminated after iteration {i} with result: {x}\")\n",
        "    return x, i"
      ]
    },
    {
      "cell_type": "markdown",
      "source": [
        "## Fletcher Reeves"
      ],
      "metadata": {
        "collapsed": false,
        "pycharm": {
          "name": "#%% md\n"
        },
        "id": "3j0iP-n3tMKe"
      }
    },
    {
      "cell_type": "markdown",
      "metadata": {
        "pycharm": {
          "name": "#%% md\n"
        },
        "id": "raT8utUrtMKe"
      },
      "source": [
        "Implementation of the Fletcher Reeves nonlinear conjugate gradient method."
      ]
    },
    {
      "cell_type": "code",
      "execution_count": 12,
      "metadata": {
        "pycharm": {
          "name": "#%%\n"
        },
        "id": "M7ZtMnF0tMKe"
      },
      "outputs": [],
      "source": [
        "def FR(x0, f, grad_f=None):\n",
        "\n",
        "    conv_tol = 1e-8\n",
        "    if grad_f == None:\n",
        "        grad_f = approx_grad(f)\n",
        "    i = 0\n",
        "    xk = x0\n",
        "    pk = -grad_f(xk)\n",
        "\n",
        "    while not stop_crit(grad_f, xk, x0, i, tol=conv_tol):\n",
        "\n",
        "        xk1 = xk + backtracking_alpha(f, grad_f, xk, pk) * pk\n",
        "        beta = (grad_f(xk1) @ grad_f(xk1)) / (grad_f(xk) @ grad_f(xk))\n",
        "        pk = -grad_f(xk1) + beta * pk\n",
        "        xk = xk1\n",
        "        i += 1\n",
        " \n",
        "    #print(f\"\\n Search terminated after iteration {i} with result: {xk}\")\n",
        "    return xk, i"
      ]
    },
    {
      "cell_type": "markdown",
      "metadata": {
        "pycharm": {
          "name": "#%% md\n"
        },
        "id": "48b_TG1CtMKf"
      },
      "source": [
        "## BFGS"
      ]
    },
    {
      "cell_type": "code",
      "execution_count": 13,
      "metadata": {
        "pycharm": {
          "name": "#%%\n"
        },
        "id": "wCjRlI3MtMKf"
      },
      "outputs": [],
      "source": [
        "def approx_hessian_bfgs(f_grad, B_k, x_1, x):\n",
        "    \"\"\"\n",
        "    Approximate Hessian based on first derivitive using previous values.\n",
        "    :param f_grad: first derivitive of f\n",
        "    :param B_k: current hessian\n",
        "    :param x_1: x_{k+1}\n",
        "    :param x: x_{k}\n",
        "    :return: approximated hessian\n",
        "    \"\"\"\n",
        "\n",
        "    s_k = x_1 - x\n",
        "    y_k = f_grad(x_1) - f_grad(x)\n",
        "\n",
        "    return B_k - (B_k * s_k * np.transpose(s_k) * B_k) / \\\n",
        "           (np.transpose(s_k) * B_k * s_k) + \\\n",
        "           (y_k * np.transpose(y_k)) / (np.transpose(y_k) * s_k)\n",
        "\n",
        "\n",
        "def BFGS(x0, f, grad_f=None, tolerance=1e-8):\n",
        "    iterations = 1000\n",
        "    tolerance = tolerance\n",
        "    if grad_f is None:\n",
        "        f_prime = approx_grad(f)\n",
        "    else:\n",
        "        f_prime = grad_f\n",
        "\n",
        "    H = np.eye(x0.shape[0])\n",
        "    x = x0\n",
        "    i = 0\n",
        "\n",
        "    for i in range(iterations):\n",
        "        f_x = f_prime(x)\n",
        "\n",
        "        if np.all(np.abs(f_x) < tolerance):\n",
        "            return x\n",
        "\n",
        "        x_old = np.copy(x)\n",
        "\n",
        "        direction = -H @ f_x\n",
        "        step_size = alpha_wolfe(f, f_prime, x, direction)\n",
        "        x = x +  step_size * direction\n",
        "\n",
        "        x = np.sum(x.reshape(x.shape[0], -1), 1)\n",
        "        H = approx_hessian_bfgs(f_prime, H, x, x_old)\n",
        "\n",
        "    return x, i + 1\n"
      ]
    },
    {
      "cell_type": "markdown",
      "metadata": {
        "pycharm": {
          "name": "#%% md\n"
        },
        "id": "9uW9-8yRtMKg"
      },
      "source": [
        ""
      ]
    },
    {
      "cell_type": "markdown",
      "metadata": {
        "pycharm": {
          "name": "#%% md\n"
        },
        "id": "_9YaBfYutMKg"
      },
      "source": [
        "## SR1"
      ]
    },
    {
      "cell_type": "markdown",
      "metadata": {
        "pycharm": {
          "name": "#%% md\n"
        },
        "id": "NvGjrUwqtMKg"
      },
      "source": [
        "SR1() implements the line search quasi newton method utilizing SR1 updating for inverse Hessian approximation and a method for stabilizing that resets H as a multiple of I inspired by the method deployed in https://www.sciencedirect.com/science/article/pii/S0898122111004202?via%3Dihub."
      ]
    },
    {
      "cell_type": "code",
      "execution_count": 16,
      "metadata": {
        "pycharm": {
          "name": "#%%\n"
        },
        "id": "AO9yQXMOtMKg"
      },
      "outputs": [],
      "source": [
        "def SR1(x0 : np.array, f, grad_f, r=1e-8):\n",
        "\n",
        "    if grad_f == None:\n",
        "      grad_f = approx_grad(f)\n",
        "    conv_tol = 1e-8\n",
        "    i = 0\n",
        "    H = np.identity(x0.size)\n",
        "    x = x0\n",
        "\n",
        "    while not stop_crit(grad_f, x, x0, i, tol=conv_tol):\n",
        "  \n",
        "        pk = - H @ grad_f(x)\n",
        "        x_1 = x + alpha_wolfe(f, grad_f, x, pk) * pk\n",
        "        sk = x_1 - x\n",
        "        yk = grad_f(x_1) - grad_f(x)\n",
        "        rhok = 1 / (yk.T @ sk)\n",
        "    \n",
        "        if ((sk @ yk - yk @ H @ yk) < 0) or (abs(yk @ (sk - H @ yk)) < r * np.linalg.norm(yk) * np.linalg.norm(sk - H @ yk)) or (\n",
        "            norm(H, np.inf) > 1e10):\n",
        "            mu = (sk @ sk) / (yk @ sk) - ((sk @ sk)**2 / (yk @ sk)**2 - (sk @ sk) / (yk @ yk))**0.5\n",
        "            H_1 = mu * np.identity(x0.size)\n",
        "            H = H_1\n",
        "        else:\n",
        "            H_1 = H + np.outer((sk - H @ yk), (sk - H @ yk)) / ((sk - H @ yk) @ yk)\n",
        "            H = H_1\n",
        "        \n",
        "        x = x_1\n",
        "        i += 1\n",
        "\n",
        "    #print(f\"\\n Search terminated after iteration {i} with result: {x}\")\n",
        "    return x, i\n"
      ]
    },
    {
      "cell_type": "markdown",
      "metadata": {
        "pycharm": {
          "name": "#%% md\n"
        },
        "id": "S_AF9vottMKh"
      },
      "source": [
        "# Executions"
      ]
    },
    {
      "cell_type": "code",
      "execution_count": 19,
      "metadata": {
        "pycharm": {
          "name": "#%%\n"
        },
        "id": "di9v6gE2tMKh"
      },
      "outputs": [],
      "source": [
        "# Define list with all possible algorithms for the tests\n",
        "algorithms = {'Steepest descent': steepest_descent,\n",
        "              'Newthon method': newton_method,\n",
        "              'Fletcher Reeves': FR,\n",
        "              'SR1': SR1,\n",
        "              'BFGS': BFGS}"
      ]
    },
    {
      "cell_type": "markdown",
      "metadata": {
        "pycharm": {
          "name": "#%% md\n"
        },
        "id": "9gsoXzWjtMKh"
      },
      "source": [
        "## Rosenbrock Problems"
      ]
    },
    {
      "cell_type": "code",
      "execution_count": 18,
      "metadata": {
        "colab": {
          "base_uri": "https://localhost:8080/"
        },
        "id": "nKXNBar6zlfC",
        "outputId": "f3613e87-018b-46f4-9093-75c409d450d0",
        "pycharm": {
          "name": "#%%\n"
        },
        "scrolled": false
      },
      "outputs": [
        {
          "output_type": "stream",
          "name": "stdout",
          "text": [
            "**********************************************\n",
            "Problem Rosenbrock:\n",
            "**********************************************\n",
            "------------------------------------------------\n",
            "\tAlgorithm 'Steepest descent':\n",
            "------------------------------------------------\n",
            "Search terminated after iteration 1001 with result: [1.04782354 1.0976117 ]\n",
            "Last gradient norm: 0.23964231958867102\n",
            "Difference to real solutions:\n",
            "\tDifference to point '[1 1]' is 0.10869744657834793\n",
            "------------------------------------------------\n",
            "\tAlgorithm 'Newthon method':\n",
            "------------------------------------------------\n",
            "Search terminated after iteration 7 with result: [0.99999637 0.99999274]\n",
            "Last gradient norm: 5.130305357442694e-06\n",
            "Difference to real solutions:\n",
            "\tDifference to point '[1 1]' is 8.120916393507349e-06\n",
            "------------------------------------------------\n",
            "\tAlgorithm 'Fetcher Reeves':\n",
            "------------------------------------------------\n",
            "Search terminated after iteration 1001 with result: [0.99999851 0.99999701]\n",
            "Last gradient norm: 1.4403123335146095e-06\n",
            "Difference to real solutions:\n",
            "\tDifference to point '[1 1]' is 3.3432548067955905e-06\n",
            "------------------------------------------------\n",
            "\tAlgorithm 'SR1':\n",
            "------------------------------------------------\n",
            "Algorithm 'SR1' failed to find a solution\n",
            "------------------------------------------------\n",
            "\tAlgorithm 'BFGS':\n",
            "------------------------------------------------\n",
            "Search terminated after iteration 1000 with result: [nan nan]\n",
            "Last gradient norm: nan\n",
            "Difference to real solutions:\n",
            "\tDifference to point '[1 1]' is nan\n"
          ]
        },
        {
          "output_type": "stream",
          "name": "stderr",
          "text": [
            "/usr/local/lib/python3.7/dist-packages/ipykernel_launcher.py:14: RuntimeWarning: invalid value encountered in true_divide\n",
            "  \n"
          ]
        },
        {
          "output_type": "stream",
          "name": "stdout",
          "text": [
            "**********************************************\n",
            "Problem Rosenbrock:\n",
            "**********************************************\n",
            "------------------------------------------------\n",
            "\tAlgorithm 'Steepest descent':\n",
            "------------------------------------------------\n",
            "Search terminated after iteration 1001 with result: [1.976488   3.91206861]\n",
            "Last gradient norm: 2.6869621730906053\n",
            "Difference to real solutions:\n",
            "\tDifference to point '[1 1]' is 3.0714283945535565\n",
            "------------------------------------------------\n",
            "\tAlgorithm 'Newthon method':\n",
            "------------------------------------------------\n",
            "Search terminated after iteration 24 with result: [0.99999669 0.99999338]\n",
            "Last gradient norm: 4.546056903178997e-06\n",
            "Difference to real solutions:\n",
            "\tDifference to point '[1 1]' is 7.39619433403795e-06\n",
            "------------------------------------------------\n",
            "\tAlgorithm 'Fetcher Reeves':\n",
            "------------------------------------------------\n",
            "Search terminated after iteration 1001 with result: [0.99999782 0.99999564]\n",
            "Last gradient norm: 2.113944344662072e-06\n",
            "Difference to real solutions:\n",
            "\tDifference to point '[1 1]' is 4.877405444420461e-06\n",
            "------------------------------------------------\n",
            "\tAlgorithm 'SR1':\n",
            "------------------------------------------------\n",
            "Algorithm 'SR1' failed to find a solution\n",
            "------------------------------------------------\n",
            "\tAlgorithm 'BFGS':\n",
            "------------------------------------------------\n",
            "Search terminated after iteration 1000 with result: [nan nan]\n",
            "Last gradient norm: nan\n",
            "Difference to real solutions:\n",
            "\tDifference to point '[1 1]' is nan\n",
            "**********************************************\n",
            "Problem Rosenbrock:\n",
            "**********************************************\n",
            "------------------------------------------------\n",
            "\tAlgorithm 'Steepest descent':\n",
            "------------------------------------------------\n",
            "Search terminated after iteration 1001 with result: [ 3.4319491  11.78559229]\n",
            "Last gradient norm: 5.384369377640661\n",
            "Difference to real solutions:\n",
            "\tDifference to point '[1 1]' is 11.056372706137862\n",
            "------------------------------------------------\n",
            "\tAlgorithm 'Newthon method':\n",
            "------------------------------------------------\n",
            "Search terminated after iteration 15 with result: [0.99999669 0.99999338]\n",
            "Last gradient norm: 4.543658062814793e-06\n",
            "Difference to real solutions:\n",
            "\tDifference to point '[1 1]' is 7.396315290542874e-06\n",
            "------------------------------------------------\n",
            "\tAlgorithm 'Fetcher Reeves':\n",
            "------------------------------------------------\n",
            "Search terminated after iteration 1001 with result: [0.99999394 0.99998764]\n",
            "Last gradient norm: 9.553778836785272e-05\n",
            "Difference to real solutions:\n",
            "\tDifference to point '[1 1]' is 1.3763163583889602e-05\n",
            "------------------------------------------------\n",
            "\tAlgorithm 'SR1':\n",
            "------------------------------------------------\n",
            "Algorithm 'SR1' failed to find a solution\n",
            "------------------------------------------------\n",
            "\tAlgorithm 'BFGS':\n",
            "------------------------------------------------\n",
            "Search terminated after iteration 1000 with result: [nan nan]\n",
            "Last gradient norm: nan\n",
            "Difference to real solutions:\n",
            "\tDifference to point '[1 1]' is nan\n",
            "**********************************************\n",
            "Problem Rosenbrock:\n",
            "**********************************************\n",
            "------------------------------------------------\n",
            "\tAlgorithm 'Steepest descent':\n",
            "------------------------------------------------\n",
            "Search terminated after iteration 1001 with result: [2.26809956 5.15018664]\n",
            "Last gradient norm: 3.063786746633443\n",
            "Difference to real solutions:\n",
            "\tDifference to point '[1 1]' is 4.339599709960178\n",
            "------------------------------------------------\n",
            "\tAlgorithm 'Newthon method':\n",
            "------------------------------------------------\n",
            "Search terminated after iteration 1001 with result: [-0.96181955  0.92986517]\n",
            "Last gradient norm: 2.2965059665717846\n",
            "Difference to real solutions:\n",
            "\tDifference to point '[1 1]' is 1.9630728020944417\n",
            "------------------------------------------------\n",
            "\tAlgorithm 'Fetcher Reeves':\n",
            "------------------------------------------------\n",
            "Search terminated after iteration 1001 with result: [0.99999415 0.99998901]\n",
            "Last gradient norm: 0.00032894514662097006\n",
            "Difference to real solutions:\n",
            "\tDifference to point '[1 1]' is 1.2452427331052624e-05\n",
            "------------------------------------------------\n",
            "\tAlgorithm 'SR1':\n",
            "------------------------------------------------\n",
            "Algorithm 'SR1' failed to find a solution\n",
            "------------------------------------------------\n",
            "\tAlgorithm 'BFGS':\n",
            "------------------------------------------------\n",
            "Search terminated after iteration 1000 with result: [nan nan]\n",
            "Last gradient norm: nan\n",
            "Difference to real solutions:\n",
            "\tDifference to point '[1 1]' is nan\n",
            "**********************************************\n",
            "Problem Rosenbrock:\n",
            "**********************************************\n",
            "------------------------------------------------\n",
            "\tAlgorithm 'Steepest descent':\n",
            "------------------------------------------------\n",
            "Search terminated after iteration 1001 with result: [ 4.48751103 20.14407189]\n",
            "Last gradient norm: 4.542653200753145\n",
            "Difference to real solutions:\n",
            "\tDifference to point '[1 1]' is 19.459142363266835\n",
            "------------------------------------------------\n",
            "\tAlgorithm 'Newthon method':\n",
            "------------------------------------------------\n",
            "Search terminated after iteration 22 with result: [0.99999669 0.99999338]\n",
            "Last gradient norm: 4.546008305648267e-06\n",
            "Difference to real solutions:\n",
            "\tDifference to point '[1 1]' is 7.3961977068807766e-06\n",
            "------------------------------------------------\n",
            "\tAlgorithm 'Fetcher Reeves':\n",
            "------------------------------------------------\n",
            "Search terminated after iteration 613 with result: [0.99999824 0.99999648]\n",
            "Last gradient norm: 4.182318973570504e-06\n",
            "Difference to real solutions:\n",
            "\tDifference to point '[1 1]' is 3.933943098940593e-06\n",
            "------------------------------------------------\n",
            "\tAlgorithm 'SR1':\n",
            "------------------------------------------------\n",
            "Algorithm 'SR1' failed to find a solution\n",
            "------------------------------------------------\n",
            "\tAlgorithm 'BFGS':\n",
            "------------------------------------------------\n",
            "Search terminated after iteration 1000 with result: [nan nan]\n",
            "Last gradient norm: nan\n",
            "Difference to real solutions:\n",
            "\tDifference to point '[1 1]' is nan\n"
          ]
        }
      ],
      "source": [
        "from numpy.core.fromnumeric import nonzero\n",
        "polynomial_problems = {Rosenbrock(): [1.2,1.2], \n",
        "                       Rosenbrock(): [-1.2,1],\n",
        "                       Rosenbrock(): [0,1],\n",
        "                       Rosenbrock(): [-1,0],\n",
        "                       Rosenbrock(): [0,-1]}\n",
        "\n",
        "for prob, start_value in polynomial_problems.items():\n",
        "    \n",
        "    print(\"**********************************************\")\n",
        "    print(f\"Problem {type(prob).__name__}:\")\n",
        "    print(\"**********************************************\")\n",
        "    for algorithm_name, algorithm in algorithms.items():\n",
        "        try:\n",
        "            print(\"------------------------------------------------\")\n",
        "            print(f\"\\tAlgorithm '{algorithm_name}':\")\n",
        "            print(\"------------------------------------------------\")\n",
        "            parameters = {'x0': np.array(start_value),\n",
        "                          'f': prob.f,\n",
        "                          'grad_f': None,\n",
        "                          'hessian_f': None}\n",
        "\n",
        "            # clean up parameters for generic method call\n",
        "            possible_parameters = algorithm.__code__.co_varnames\n",
        "            for p in list(parameters):\n",
        "                if p not in possible_parameters:\n",
        "                    parameters.pop(p)\n",
        "\n",
        "            x, iterations = algorithm(**parameters)\n",
        "\n",
        "            print(f\"Search terminated after iteration {iterations} with result: {x}\")\n",
        "            print(f\"Last gradient norm: {norm(prob.grad_f(x))}\")\n",
        "            print(\"Difference to real solutions:\")\n",
        "            print(f\"\\tDifference to point '{prob.actual_minima}' is {norm(x - prob.actual_minima)}\")\n",
        "        \n",
        "        except Exception:\n",
        "            print(f\"Algorithm '{algorithm_name}' failed to find a solution\")\n",
        "\n",
        "\n",
        "# prob = Problem()\n",
        "# prob.poly_1()\n",
        "# print(f\"\\nProblem poly_1: \\n\")\n",
        "# print(\"\\nAlgorithm output exact gradient: \")\n",
        "# x_ = steepest_descent(np.array([1]), prob.f, prob.grad_f)\n",
        "# print(f\"\\nactual minima: {prob.min_x}\")\n",
        "# print(f\"\\nLast gradient norm: {norm(prob.grad_f(x_))}\")\n",
        "# print(f\"\\nDifference to real solution: {norm(x_ - prob.min_x[2])}\")\n",
        "# print(\"\\nAlgorithm output approximated gradient: \")\n",
        "# x_ = steepest_descent(np.array([1]), prob.f)\n",
        "# print(f\"\\nactual minima: {prob.min_x}\")\n",
        "# grad = approx_grad(prob.f)\n",
        "# print(f\"\\nLast gradient norm: {norm(grad(x_))}\")\n",
        "# print(f\"\\nDifference to real solution: {norm(x_ - prob.min_x[2])}\")"
      ]
    },
    {
      "cell_type": "markdown",
      "metadata": {
        "pycharm": {
          "name": "#%% md\n"
        },
        "id": "4onkWWaEtMKh"
      },
      "source": [
        "## Squared Error Problem"
      ]
    },
    {
      "cell_type": "code",
      "execution_count": null,
      "metadata": {
        "pycharm": {
          "name": "#%%\n"
        },
        "id": "0CRwyl_dtMKh",
        "outputId": "8b7fbb99-7575-4eb6-d35a-80d16bcd447c"
      },
      "outputs": [
        {
          "name": "stdout",
          "output_type": "stream",
          "text": [
            "**********************************************\n",
            "Problem SinusSQEP:\n",
            "**********************************************\n",
            "------------------------------------------------\n",
            "\tAlgorithm 'Steepest descent':\n",
            "------------------------------------------------\n",
            "Search terminated after iteration 1001 with result: [[-0.00542518]\n",
            " [ 0.76292779]\n",
            " [ 0.01304705]\n",
            " [ 0.08252708]\n",
            " [-0.00341197]\n",
            " [-0.04598076]]\n",
            "Last gradient norm: 6.003170056808156\n"
          ]
        },
        {
          "data": {
            "text/plain": "<Figure size 432x288 with 1 Axes>",
            "image/png": "[encoded data removed]"
          },
          "metadata": {
            "needs_background": "light"
          },
          "output_type": "display_data"
        },
        {
          "name": "stdout",
          "output_type": "stream",
          "text": [
            "------------------------------------------------\n",
            "\tAlgorithm 'Newthon method':\n",
            "------------------------------------------------\n",
            "Search terminated after iteration 2 with result: [[-1.15879018e-05]\n",
            " [ 9.99237489e-01]\n",
            " [-2.98836182e-06]\n",
            " [-1.64752820e-01]\n",
            " [ 2.88235004e-06]\n",
            " [ 7.18438965e-03]]\n",
            "Last gradient norm: 2.7372196574696556e-13\n"
          ]
        },
        {
          "data": {
            "text/plain": "<Figure size 432x288 with 1 Axes>",
            "image/png": "[encoded data removed]"
          },
          "metadata": {
            "needs_background": "light"
          },
          "output_type": "display_data"
        },
        {
          "name": "stdout",
          "output_type": "stream",
          "text": [
            "------------------------------------------------\n",
            "\tAlgorithm 'Fetcher Reeves':\n",
            "------------------------------------------------\n",
            "Algorithm 'Fetcher Reeves' failed to find a solution.\n",
            "------------------------------------------------\n",
            "\tAlgorithm 'SR1':\n",
            "------------------------------------------------\n",
            "Algorithm 'SR1' failed to find a solution.\n",
            "------------------------------------------------\n",
            "\tAlgorithm 'BFGS':\n",
            "------------------------------------------------\n"
          ]
        },
        {
          "name": "stderr",
          "output_type": "stream",
          "text": [
            "C:\\Users\\Uros Zivanovic\\AppData\\Local\\Temp\\ipykernel_4444\\911478705.py:34: RuntimeWarning: divide by zero encountered in true_divide\n",
            "  x = x - alpha_wolfe(f, f_prime, x, x_old) * f_x / H\n",
            "C:\\Users\\Uros Zivanovic\\AppData\\Local\\Temp\\ipykernel_4444\\2579904615.py:26: RuntimeWarning: invalid value encountered in matmul\n",
            "  return c_j.T @ x - b_j\n"
          ]
        },
        {
          "name": "stdout",
          "output_type": "stream",
          "text": [
            "Search terminated after iteration 999 with result: [nan nan nan nan nan nan]\n",
            "Last gradient norm: nan\n"
          ]
        },
        {
          "data": {
            "text/plain": "<Figure size 432x288 with 1 Axes>",
            "image/png": "[encoded data removed]"
          },
          "metadata": {
            "needs_background": "light"
          },
          "output_type": "display_data"
        },
        {
          "name": "stdout",
          "output_type": "stream",
          "text": [
            "**********************************************\n",
            "Problem CosinusSQEP:\n",
            "**********************************************\n",
            "------------------------------------------------\n",
            "\tAlgorithm 'Steepest descent':\n",
            "------------------------------------------------\n",
            "Search terminated after iteration 1001 with result: [[ 0.86939703]\n",
            " [ 0.00250715]\n",
            " [-0.26703081]\n",
            " [ 0.00723248]\n",
            " [-0.02345732]\n",
            " [-0.0055288 ]]\n",
            "Last gradient norm: 14.28425619064833\n"
          ]
        },
        {
          "data": {
            "text/plain": "<Figure size 432x288 with 1 Axes>",
            "image/png": "[encoded data removed]"
          },
          "metadata": {
            "needs_background": "light"
          },
          "output_type": "display_data"
        },
        {
          "name": "stdout",
          "output_type": "stream",
          "text": [
            "------------------------------------------------\n",
            "\tAlgorithm 'Newthon method':\n",
            "------------------------------------------------\n",
            "Search terminated after iteration 2 with result: [[ 9.98500456e-01]\n",
            " [ 7.38788684e-04]\n",
            " [-4.91634293e-01]\n",
            " [-1.42126731e-03]\n",
            " [ 3.49123848e-02]\n",
            " [ 4.21717855e-04]]\n",
            "Last gradient norm: 8.895782568264264e-14\n"
          ]
        },
        {
          "data": {
            "text/plain": "<Figure size 432x288 with 1 Axes>",
            "image/png": "[encoded data removed]"
          },
          "metadata": {
            "needs_background": "light"
          },
          "output_type": "display_data"
        },
        {
          "name": "stdout",
          "output_type": "stream",
          "text": [
            "------------------------------------------------\n",
            "\tAlgorithm 'Fetcher Reeves':\n",
            "------------------------------------------------\n",
            "Algorithm 'Fetcher Reeves' failed to find a solution.\n",
            "------------------------------------------------\n",
            "\tAlgorithm 'SR1':\n",
            "------------------------------------------------\n",
            "Algorithm 'SR1' failed to find a solution.\n",
            "------------------------------------------------\n",
            "\tAlgorithm 'BFGS':\n",
            "------------------------------------------------\n",
            "Search terminated after iteration 999 with result: [nan nan nan nan nan nan]\n",
            "Last gradient norm: nan\n"
          ]
        },
        {
          "data": {
            "text/plain": "<Figure size 432x288 with 1 Axes>",
            "image/png": "[encoded data removed]"
          },
          "metadata": {
            "needs_background": "light"
          },
          "output_type": "display_data"
        }
      ],
      "source": [
        "sqep_problems = {SinusSQEP: {'q': 2, 'num_points': 100, 'degree': 5},\n",
        "                 CosinusSQEP: {'q': 2, 'num_points': 100, 'degree': 5}}\n",
        "\n",
        "for prob_class, prob_params in sqep_problems.items():\n",
        "\n",
        "    prob = prob_class(**prob_params)\n",
        "\n",
        "    prob_num_points = prob_params['num_points']\n",
        "    prob_q = prob_params['q']\n",
        "    prob_degree = prob_params['degree']\n",
        "\n",
        "    x_plot = [i / 10 for i in range(-prob_q * 10, prob_q * 10 + 1)]\n",
        "    y_true_plot = [prob.target_function(x) for x in x_plot]\n",
        "\n",
        "    print(\"**********************************************\")\n",
        "    print(f\"Problem {type(prob).__name__}:\")\n",
        "    print(\"**********************************************\")\n",
        "    for algorithm_name, algorithm in algorithms.items():\n",
        "        try:\n",
        "            print(\"------------------------------------------------\")\n",
        "            print(f\"\\tAlgorithm '{algorithm_name}':\")\n",
        "            print(\"------------------------------------------------\")\n",
        "\n",
        "            parameters = {'x0': np.reshape([0 for i in range(prob_degree + 1)], (prob_degree + 1, 1)),\n",
        "                          'f': prob.f,\n",
        "                          'grad_f': prob.grad_f,\n",
        "                          'hessian_f': prob.hessian}\n",
        "\n",
        "            # clean up parameters for generic method call\n",
        "            possible_parameters = algorithm.__code__.co_varnames\n",
        "            for p in list(parameters):\n",
        "                if p not in possible_parameters:\n",
        "                    parameters.pop(p)\n",
        "\n",
        "            coef, iterations = algorithm(**parameters)\n",
        "            print(f\"Search terminated after iteration {iterations} with result: {coef}\")\n",
        "            print(f\"Last gradient norm: {norm(prob.grad_f(coef))}\")\n",
        "\n",
        "            approximation_y = []\n",
        "            for i in range(len(x_plot)):\n",
        "                approximation_y.append(0)\n",
        "                for d in range(prob_degree):\n",
        "                    approximation_y[i] += coef[d] * x_plot[i] ** d\n",
        "\n",
        "            plt.plot(x_plot, y_true_plot, label=\"true function\")\n",
        "            plt.plot(x_plot, approximation_y, '-.', label=\"approximation\")\n",
        "            plt.title(f'{algorithm_name}')\n",
        "            plt.legend()\n",
        "            plt.show()\n",
        "\n",
        "        except Exception:\n",
        "            print(f\"Algorithm '{algorithm_name}' failed to find a solution.\")\n",
        "\n",
        "# def draw_graphs(degree : int = 5, ):\n",
        "#     x = np.reshape([0 for i in range(degree+1)], (degree+1, 1))\n",
        "\n",
        "#     fig, ax = plt.subplots(4, figsize=(10, 15))\n",
        "\n",
        "#     x_multipliers, steps = newton_descent(x, 1000)\n",
        "#     xs = [i/10 for i in range(-q*10, q*10 + 1)]\n",
        "\n",
        "#     y_true = [fun(x) for x in xs]\n",
        "#     y_approx = [evaluate_poly(x, x_multipliers, n+1) for x in xs]\n",
        "\n",
        "#     ax[0].plot(xs, y_true, label=\"true function\")\n",
        "#     ax[0].plot(xs, y_approx,'-.', label=\"approximation\")\n",
        "#     ax[0].set(title=f'Newton method after {steps} steps')\n",
        "#     ax[0].legend()\n",
        "\n",
        "#     x_multipliers, steps = conjugate_gradient(x, 15000)\n",
        "\n",
        "#     y_true = [fun(x) for x in xs]\n",
        "#     y_approx = [evaluate_poly(x, x_multipliers, n+1) for x in xs]\n",
        "\n",
        "#     ax[3].plot(xs, y_true, label=\"true function\")\n",
        "#     ax[3].plot(xs, y_approx, label=\"approximation\")\n",
        "#     ax[3].set(title=f'Conjugate gradient method after {steps} steps')\n",
        "#     ax[3].legend()\n",
        "\n",
        "#     x_multipliers, steps = steepest_descent(x, 15000)\n",
        "\n",
        "#     y_true = [fun(x) for x in xs]\n",
        "#     y_approx = [evaluate_poly(x, x_multipliers, n+1) for x in xs]\n",
        "\n",
        "#     ax[1].plot(xs, y_true, label=\"true function\")\n",
        "#     ax[1].plot(xs, y_approx, label=\"approximation\")\n",
        "#     ax[1].set(title=f'Steepest descent after {steps} steps')\n",
        "#     ax[1].legend()\n",
        "    \n",
        "#     # converges extremely slowly\n",
        "#     \"\"\"x_multipliers, steps = SR1(x, 15000)\n",
        "\n",
        "#     y_true = [fun(x) for x in xs]\n",
        "#     y_approx = [evaluate_poly(x, x_multipliers, n+1) for x in xs]\n",
        "\n",
        "#     ax[2].plot(xs, y_true, label=\"true function\")\n",
        "#     ax[2].plot(xs, y_approx, label=\"approximation\")\n",
        "#     ax[2].set(title=f'SR1 after {steps} steps')\n",
        "#     ax[2].legend()\"\"\"\n",
        "\n",
        "#     fig.tight_layout()\n",
        "    \n",
        "# draw_graphs()"
      ]
    },
    {
      "cell_type": "code",
      "execution_count": null,
      "metadata": {
        "pycharm": {
          "is_executing": true,
          "name": "#%%\n"
        },
        "id": "3YqMN2XftMKi"
      },
      "outputs": [],
      "source": [
        ""
      ]
    },
    {
      "cell_type": "markdown",
      "metadata": {
        "pycharm": {
          "name": "#%% md\n"
        },
        "id": "RRDcm7hctMKi"
      },
      "source": [
        "# Old Code #####################"
      ]
    },
    {
      "cell_type": "markdown",
      "metadata": {
        "id": "YRYmj7uuDWmG",
        "pycharm": {
          "name": "#%% md\n"
        }
      },
      "source": [
        "For the newton method I first struggled with solving the himmelblau function, but after some tinkering with the starting point, it worked.\n",
        "Also choosing 0s as starting points seems to not work here at all. In the end I reached VERY fast convergence for all problems though."
      ]
    },
    {
      "cell_type": "code",
      "execution_count": null,
      "metadata": {
        "colab": {
          "base_uri": "https://localhost:8080/"
        },
        "id": "D9Dqi4AWCAp-",
        "outputId": "20d0671e-cc22-49bb-91c1-50c8049596cf",
        "pycharm": {
          "is_executing": true,
          "name": "#%%\n"
        }
      },
      "outputs": [
        {
          "ename": "AttributeError",
          "evalue": "'Problem' object has no attribute 'himmelblau'",
          "output_type": "error",
          "traceback": [
            "\u001b[1;31m---------------------------------------------------------------------------\u001b[0m",
            "\u001b[1;31mAttributeError\u001b[0m                            Traceback (most recent call last)",
            "Input \u001b[1;32mIn [18]\u001b[0m, in \u001b[0;36m<cell line: 2>\u001b[1;34m()\u001b[0m\n\u001b[0;32m      1\u001b[0m prob \u001b[38;5;241m=\u001b[39m Problem()\n\u001b[1;32m----> 2\u001b[0m \u001b[43mprob\u001b[49m\u001b[38;5;241;43m.\u001b[39;49m\u001b[43mhimmelblau\u001b[49m()\n\u001b[0;32m      3\u001b[0m \u001b[38;5;28mprint\u001b[39m(\u001b[38;5;124mf\u001b[39m\u001b[38;5;124m\"\u001b[39m\u001b[38;5;130;01m\\n\u001b[39;00m\u001b[38;5;124mProblem himmelblau: \u001b[39m\u001b[38;5;130;01m\\n\u001b[39;00m\u001b[38;5;124m\"\u001b[39m)\n\u001b[0;32m      4\u001b[0m \u001b[38;5;28mprint\u001b[39m(\u001b[38;5;124m\"\u001b[39m\u001b[38;5;130;01m\\n\u001b[39;00m\u001b[38;5;124mAlgorithm output: \u001b[39m\u001b[38;5;124m\"\u001b[39m)\n",
            "\u001b[1;31mAttributeError\u001b[0m: 'Problem' object has no attribute 'himmelblau'"
          ]
        }
      ],
      "source": [
        "prob = Problem()\n",
        "prob.himmelblau()\n",
        "print(f\"\\nProblem himmelblau: \\n\")\n",
        "print(\"\\nAlgorithm output: \")\n",
        "x_ = newton_method(np.array([2.5,1.5]), prob.f, prob.grad_f, prob.hessian)\n",
        "print(f\"\\nactual minima: {prob.min_x}\")\n",
        "print(f\"\\nLast gradient norm: {norm(prob.grad_f(x_))}\")\n",
        "print(f\"\\nDifference to real solution: {norm(x_ - prob.min_x[0])}\")\n",
        "\n"
      ]
    },
    {
      "cell_type": "markdown",
      "metadata": {
        "id": "8rqHHXq9EY3F",
        "pycharm": {
          "name": "#%% md\n"
        }
      },
      "source": [
        "Implementation of the Fletcher Reeves nonlinear conjugate gradient method."
      ]
    },
    {
      "cell_type": "code",
      "execution_count": null,
      "metadata": {
        "id": "W8yFRBxNEitW",
        "pycharm": {
          "is_executing": true,
          "name": "#%%\n"
        }
      },
      "outputs": [],
      "source": [
        "prob = Problem()\n",
        "prob.himmelblau()\n",
        "print(f\"\\nProblem himmelblau: \\n\")\n",
        "print(\"\\nAlgorithm output: \")\n",
        "x_ = FR(np.array([0,0]), prob.f, prob.grad_f)\n",
        "print(f\"\\nactual minima: {prob.min_x}\")\n",
        "print(f\"\\nLast gradient norm: {norm(prob.grad_f(x_))}\")\n",
        "print(f\"\\nDifference to real solution: {norm(x_ - prob.min_x[3])}\")"
      ]
    },
    {
      "cell_type": "code",
      "execution_count": null,
      "metadata": {
        "id": "rkZV38tKGrel",
        "pycharm": {
          "is_executing": true,
          "name": "#%%\n"
        }
      },
      "outputs": [],
      "source": [
        "prob = Problem()\n",
        "prob.himmelblau()\n",
        "print(f\"\\nProblem himmelblau: \\n\")\n",
        "print(\"\\nAlgorithm output: \")\n",
        "x_ = SR1(np.array([0,0]), prob.f, prob.grad_f)\n",
        "print(f\"\\nactual minima: {prob.min_x}\")\n",
        "print(f\"\\nLast gradient norm: {norm(prob.grad_f(x_))}\")\n",
        "print(f\"\\nDifference to real solution: {norm(x_ - prob.min_x[0])}\")\n"
      ]
    },
    {
      "cell_type": "markdown",
      "metadata": {
        "id": "SSmu1kaRcFF1",
        "pycharm": {
          "name": "#%% md\n"
        }
      },
      "source": [
        "**Rosenbrock [1.2,1.2] starting point**"
      ]
    },
    {
      "cell_type": "code",
      "execution_count": null,
      "metadata": {
        "id": "i1Skp5VncEqT",
        "pycharm": {
          "is_executing": true,
          "name": "#%%\n"
        }
      },
      "outputs": [],
      "source": [
        "prob = Problem()\n",
        "prob.rosenbrock()\n",
        "print(f\"\\nProblem rosenbrock steepest descent [1.2,1.2]:\")\n",
        "print(\"\\nAlgorithm output: \")\n",
        "x_ = steepest_descent(np.array([1.2,1.2]), prob.f, prob.grad_f)\n",
        "print(f\"\\nactual minima: {prob.min_x}\")\n",
        "print(f\"\\nLast gradient norm: {norm(prob.grad_f(x_))}\")\n",
        "print(f\"\\nDifference to real solution: {norm(x_ - prob.min_x)}\")\n",
        "print(f\"\\nProblem rosenbrock steepest descent [1.2,1.2] approximated gradients:\")\n",
        "print(\"\\nAlgorithm output: \")\n",
        "x_ = steepest_descent(np.array([1.2,1.2]), prob.f)\n",
        "print(f\"\\nactual minima: {prob.min_x}\")\n",
        "grad = approx_grad(prob.f)\n",
        "print(f\"\\nLast gradient norm: {norm(grad(x_))}\")\n",
        "print(f\"\\nDifference to real solution: {norm(x_ - prob.min_x)}\")\n",
        "\n",
        "prob = Problem()\n",
        "prob.rosenbrock()\n",
        "print(f\"\\nProblem rosenbrock newton method [1.2,1.2]:\")\n",
        "print(\"\\nAlgorithm output: \")\n",
        "x_ = newton_method(np.array([1.2,1.2]), prob.f, prob.grad_f, prob.hessian)\n",
        "print(f\"\\nactual minima: {prob.min_x}\")\n",
        "print(f\"\\nLast gradient norm: {norm(prob.grad_f(x_))}\")\n",
        "print(f\"\\nDifference to real solution: {norm(x_ - prob.min_x)}\")\n",
        "print(f\"\\nProblem rosenbrock newton method [1.2,1.2] approximated gradients:\")\n",
        "print(\"\\nAlgorithm output: \")\n",
        "x_ = newton_method(np.array([1.2,1.2]), prob.f)\n",
        "print(f\"\\nactual minima: {prob.min_x}\")\n",
        "grad = approx_grad(prob.f)\n",
        "print(f\"\\nLast gradient norm: {norm(grad(x_))}\")\n",
        "print(f\"\\nDifference to real solution: {norm(x_ - prob.min_x)}\")\n",
        "\n",
        "prob = Problem()\n",
        "prob.rosenbrock()\n",
        "print(f\"\\nProblem rosenbrock FR [1.2,1.2]:\")\n",
        "print(\"\\nAlgorithm output: \")\n",
        "x_ = FR(np.array([1.2,1.2]), prob.f, prob.grad_f)\n",
        "print(f\"\\nactual minima: {prob.min_x}\")\n",
        "print(f\"\\nLast gradient norm: {norm(prob.grad_f(x_))}\")\n",
        "print(f\"\\nDifference to real solution: {norm(x_ - prob.min_x)}\")\n",
        "print(f\"\\nProblem rosenbrock FR [1.2,1.2] approximated gradients:\")\n",
        "print(\"\\nAlgorithm output: \")\n",
        "x_ = FR(np.array([1.2,1.2]), prob.f)\n",
        "print(f\"\\nactual minima: {prob.min_x}\")\n",
        "grad = approx_grad(prob.f)\n",
        "print(f\"\\nLast gradient norm: {norm(grad(x_))}\")\n",
        "print(f\"\\nDifference to real solution: {norm(x_ - prob.min_x)}\")\n",
        "\n",
        "prob = Problem()\n",
        "prob.rosenbrock()\n",
        "print(f\"\\nProblem rosenbrock:\")\n",
        "print(\"\\nAlgorithm output SR1 [1.2,1.2]: \")\n",
        "x_ = SR1(np.array([1.2,1.2]), prob.f, prob.grad_f)\n",
        "print(f\"\\nactual minima: {prob.min_x}\")\n",
        "print(f\"\\nLast gradient norm: {norm(prob.grad_f(x_))}\")\n",
        "print(f\"\\nDifference to real solution: {norm(x_ - prob.min_x)}\")\n",
        "print(f\"\\nProblem rosenbrock SR1 [1.2,1.2] approximated gradients:\")\n",
        "print(\"\\nAlgorithm output: \")\n",
        "x_ = SR1(np.array([1.2,1.2]), prob.f)\n",
        "print(f\"\\nactual minima: {prob.min_x}\")\n",
        "grad = approx_grad(prob.f)\n",
        "print(f\"\\nLast gradient norm: {norm(grad(x_))}\")\n",
        "print(f\"\\nDifference to real solution: {norm(x_ - prob.min_x)}\")"
      ]
    },
    {
      "cell_type": "markdown",
      "metadata": {
        "id": "Im-apNvwUEsz",
        "pycharm": {
          "name": "#%% md\n"
        }
      },
      "source": [
        "**Rosenbrock [-1.2,1] starting point**"
      ]
    },
    {
      "cell_type": "code",
      "execution_count": null,
      "metadata": {
        "id": "C0zGoM_s01no",
        "pycharm": {
          "is_executing": true,
          "name": "#%%\n"
        }
      },
      "outputs": [],
      "source": [
        "prob = Problem()\n",
        "prob.rosenbrock()\n",
        "print(f\"\\nProblem rosenbrock steepest descent [-1.2,1]:\")\n",
        "print(\"\\nAlgorithm output: \")\n",
        "x_ = steepest_descent(np.array([-1.2,1]), prob.f, prob.grad_f)\n",
        "print(f\"\\nactual minima: {prob.min_x}\")\n",
        "print(f\"\\nLast gradient norm: {norm(prob.grad_f(x_))}\")\n",
        "print(f\"\\nDifference to real solution: {norm(x_ - prob.min_x)}\")\n",
        "print(f\"\\nProblem rosenbrock steepest descent [-1.2,1] approximated gradients:\")\n",
        "print(\"\\nAlgorithm output: \")\n",
        "x_ = steepest_descent(np.array([-1.2,1]), prob.f)\n",
        "print(f\"\\nactual minima: {prob.min_x}\")\n",
        "grad = approx_grad(prob.f)\n",
        "print(f\"\\nLast gradient norm: {norm(grad(x_))}\")\n",
        "print(f\"\\nDifference to real solution: {norm(x_ - prob.min_x)}\")\n",
        "\n",
        "prob = Problem()\n",
        "prob.rosenbrock()\n",
        "print(f\"\\nProblem rosenbrock newton method [-1.2,1]:\")\n",
        "print(\"\\nAlgorithm output: \")\n",
        "x_ = newton_method(np.array([-1.2,1]), prob.f, prob.grad_f, prob.hessian)\n",
        "print(f\"\\nactual minima: {prob.min_x}\")\n",
        "print(f\"\\nLast gradient norm: {norm(prob.grad_f(x_))}\")\n",
        "print(f\"\\nDifference to real solution: {norm(x_ - prob.min_x)}\")\n",
        "print(f\"\\nProblem rosenbrock newton method [-1.2,1] approximated gradients:\")\n",
        "print(\"\\nAlgorithm output: \")\n",
        "x_ = newton_method(np.array([-1.2,1]), prob.f)\n",
        "print(f\"\\nactual minima: {prob.min_x}\")\n",
        "grad = approx_grad(prob.f)\n",
        "print(f\"\\nLast gradient norm: {norm(grad(x_))}\")\n",
        "print(f\"\\nDifference to real solution: {norm(x_ - prob.min_x)}\")\n",
        "\n",
        "prob = Problem()\n",
        "prob.rosenbrock()\n",
        "print(f\"\\nProblem rosenbrock FR [-1.2,1]:\")\n",
        "print(\"\\nAlgorithm output: \")\n",
        "x_ = FR(np.array([-1.2,1]), prob.f, prob.grad_f)\n",
        "print(f\"\\nactual minima: {prob.min_x}\")\n",
        "print(f\"\\nLast gradient norm: {norm(prob.grad_f(x_))}\")\n",
        "print(f\"\\nDifference to real solution: {norm(x_ - prob.min_x)}\")\n",
        "print(f\"\\nProblem rosenbrock FR [-1.2,1] approximated gradients:\")\n",
        "print(\"\\nAlgorithm output: \")\n",
        "x_ = FR(np.array([-1.2,1]), prob.f)\n",
        "print(f\"\\nactual minima: {prob.min_x}\")\n",
        "grad = approx_grad(prob.f)\n",
        "print(f\"\\nLast gradient norm: {norm(grad(x_))}\")\n",
        "print(f\"\\nDifference to real solution: {norm(x_ - prob.min_x)}\")\n",
        "\n",
        "prob = Problem()\n",
        "prob.rosenbrock()\n",
        "print(f\"\\nProblem rosenbrock:\")\n",
        "print(\"\\nAlgorithm output SR1 [-1.2,1]: \")\n",
        "x_ = SR1(np.array([-1.2,1]), prob.f, prob.grad_f)\n",
        "print(f\"\\nactual minima: {prob.min_x}\")\n",
        "print(f\"\\nLast gradient norm: {norm(prob.grad_f(x_))}\")\n",
        "print(f\"\\nDifference to real solution: {norm(x_ - prob.min_x)}\")\n",
        "print(f\"\\nProblem rosenbrock SR1 [-1.2,1] approximated gradients:\")\n",
        "#for some reason SR1 with this starting point and approximated gradients seems to be running forever\n",
        "\"\"\"print(\"\\nAlgorithm output: \")\n",
        "x_ = SR1(np.array([-1.2,1]), prob.f)\n",
        "print(f\"\\nactual minima: {prob.min_x}\")\n",
        "grad = approx_grad(prob.f)\n",
        "print(f\"\\nLast gradient norm: {norm(grad(x_))}\")\n",
        "print(f\"\\nDifference to real solution: {norm(x_ - prob.min_x)}\")\"\"\""
      ]
    },
    {
      "cell_type": "markdown",
      "metadata": {
        "id": "bV80lbwbcjGM",
        "pycharm": {
          "name": "#%% md\n"
        }
      },
      "source": [
        "**Rosenbrock [0,1] starting point**"
      ]
    },
    {
      "cell_type": "code",
      "execution_count": null,
      "metadata": {
        "id": "2dmjbZ3ZchH-",
        "pycharm": {
          "is_executing": true,
          "name": "#%%\n"
        }
      },
      "outputs": [],
      "source": [
        "prob = Problem()\n",
        "prob.rosenbrock()\n",
        "print(f\"\\nProblem rosenbrock steepest descent [0.0,1.0]:\")\n",
        "print(\"\\nAlgorithm output: \")\n",
        "x_ = steepest_descent(np.array([0.0,1.0]), prob.f, prob.grad_f)\n",
        "print(f\"\\nactual minima: {prob.min_x}\")\n",
        "print(f\"\\nLast gradient norm: {norm(prob.grad_f(x_))}\")\n",
        "print(f\"\\nDifference to real solution: {norm(x_ - prob.min_x)}\")\n",
        "print(f\"\\nProblem rosenbrock steepest descent [0.0,1.0] approximated gradients:\")\n",
        "print(\"\\nAlgorithm output: \")\n",
        "x_ = steepest_descent(np.array([0.0,1.0]), prob.f)\n",
        "print(f\"\\nactual minima: {prob.min_x}\")\n",
        "grad = approx_grad(prob.f)\n",
        "print(f\"\\nLast gradient norm: {norm(grad(x_))}\")\n",
        "print(f\"\\nDifference to real solution: {norm(x_ - prob.min_x)}\")\n",
        "\n",
        "prob = Problem()\n",
        "prob.rosenbrock()\n",
        "print(f\"\\nProblem rosenbrock newton method [0.0,1.0]:\")\n",
        "print(\"\\nAlgorithm output: \")\n",
        "x_ = newton_method(np.array([0.0,1.0]), prob.f, prob.grad_f, prob.hessian)\n",
        "print(f\"\\nactual minima: {prob.min_x}\")\n",
        "print(f\"\\nLast gradient norm: {norm(prob.grad_f(x_))}\")\n",
        "print(f\"\\nDifference to real solution: {norm(x_ - prob.min_x)}\")\n",
        "print(f\"\\nProblem rosenbrock newton method [0.0,1.0] approximated gradients:\")\n",
        "print(\"\\nAlgorithm output: \")\n",
        "x_ = newton_method(np.array([0.0,1.0]), prob.f)\n",
        "print(f\"\\nactual minima: {prob.min_x}\")\n",
        "grad = approx_grad(prob.f)\n",
        "print(f\"\\nLast gradient norm: {norm(grad(x_))}\")\n",
        "print(f\"\\nDifference to real solution: {norm(x_ - prob.min_x)}\")\n",
        "\n",
        "prob = Problem()\n",
        "prob.rosenbrock()\n",
        "print(f\"\\nProblem rosenbrock FR [0.0,1.0]:\")\n",
        "print(\"\\nAlgorithm output: \")\n",
        "x_ = FR(np.array([0.0,1.0]), prob.f, prob.grad_f)\n",
        "print(f\"\\nactual minima: {prob.min_x}\")\n",
        "print(f\"\\nLast gradient norm: {norm(prob.grad_f(x_))}\")\n",
        "print(f\"\\nDifference to real solution: {norm(x_ - prob.min_x)}\")\n",
        "print(f\"\\nProblem rosenbrock FR [0.0,1.0] approximated gradients:\")\n",
        "print(\"\\nAlgorithm output: \")\n",
        "x_ = FR(np.array([0.0,1.0]), prob.f)\n",
        "print(f\"\\nactual minima: {prob.min_x}\")\n",
        "grad = approx_grad(prob.f)\n",
        "print(f\"\\nLast gradient norm: {norm(grad(x_))}\")\n",
        "print(f\"\\nDifference to real solution: {norm(x_ - prob.min_x)}\")\n",
        "\n",
        "prob = Problem()\n",
        "prob.rosenbrock()\n",
        "print(f\"\\nProblem rosenbrock:\")\n",
        "print(\"\\nAlgorithm output SR1 [0.0,1.0]: \")\n",
        "x_ = SR1(np.array([0.0,1.0]), prob.f, prob.grad_f)\n",
        "print(f\"\\nactual minima: {prob.min_x}\")\n",
        "print(f\"\\nLast gradient norm: {norm(prob.grad_f(x_))}\")\n",
        "print(f\"\\nDifference to real solution: {norm(x_ - prob.min_x)}\")\n",
        "print(f\"\\nProblem rosenbrock SR1 [0.0,1.0] approximated gradients:\")\n",
        "print(\"\\nAlgorithm output: \")\n",
        "x_ = SR1(np.array([0.0,1.0]), prob.f)\n",
        "print(f\"\\nactual minima: {prob.min_x}\")\n",
        "grad = approx_grad(prob.f)\n",
        "print(f\"\\nLast gradient norm: {norm(grad(x_))}\")\n",
        "print(f\"\\nDifference to real solution: {norm(x_ - prob.min_x)}\")"
      ]
    },
    {
      "cell_type": "markdown",
      "metadata": {
        "id": "Jiq4MRUJcv2d",
        "pycharm": {
          "name": "#%% md\n"
        }
      },
      "source": [
        "**Rosenbrock [-1,0] starting point**"
      ]
    },
    {
      "cell_type": "code",
      "execution_count": null,
      "metadata": {
        "id": "DlWrpjIIcwBj",
        "pycharm": {
          "is_executing": true,
          "name": "#%%\n"
        }
      },
      "outputs": [],
      "source": [
        "prob = Problem()\n",
        "prob.rosenbrock()\n",
        "print(f\"\\nProblem rosenbrock steepest descent [-1.0,0.0]:\")\n",
        "print(\"\\nAlgorithm output: \")\n",
        "x_ = steepest_descent(np.array([-1.0,0.0]), prob.f, prob.grad_f)\n",
        "print(f\"\\nactual minima: {prob.min_x}\")\n",
        "print(f\"\\nLast gradient norm: {norm(prob.grad_f(x_))}\")\n",
        "print(f\"\\nDifference to real solution: {norm(x_ - prob.min_x)}\")\n",
        "print(f\"\\nProblem rosenbrock steepest descent [-1.0,0.0] approximated gradients:\")\n",
        "print(\"\\nAlgorithm output: \")\n",
        "x_ = steepest_descent(np.array([-1.0,0.0]), prob.f)\n",
        "print(f\"\\nactual minima: {prob.min_x}\")\n",
        "grad = approx_grad(prob.f)\n",
        "print(f\"\\nLast gradient norm: {norm(grad(x_))}\")\n",
        "print(f\"\\nDifference to real solution: {norm(x_ - prob.min_x)}\")\n",
        "\n",
        "prob = Problem()\n",
        "prob.rosenbrock()\n",
        "print(f\"\\nProblem rosenbrock newton method [-1.0,0.0]:\")\n",
        "print(\"\\nAlgorithm output: \")\n",
        "x_ = newton_method(np.array([-1.0,0.0]), prob.f, prob.grad_f, prob.hessian)\n",
        "print(f\"\\nactual minima: {prob.min_x}\")\n",
        "print(f\"\\nLast gradient norm: {norm(prob.grad_f(x_))}\")\n",
        "print(f\"\\nDifference to real solution: {norm(x_ - prob.min_x)}\")\n",
        "print(f\"\\nProblem rosenbrock newton method [-1.0,0.0] approximated gradients:\")\n",
        "print(\"\\nAlgorithm output: \")\n",
        "x_ = newton_method(np.array([-1.0,0.0]), prob.f)\n",
        "print(f\"\\nactual minima: {prob.min_x}\")\n",
        "grad = approx_grad(prob.f)\n",
        "print(f\"\\nLast gradient norm: {norm(grad(x_))}\")\n",
        "print(f\"\\nDifference to real solution: {norm(x_ - prob.min_x)}\")\n",
        "\n",
        "prob = Problem()\n",
        "prob.rosenbrock()\n",
        "print(f\"\\nProblem rosenbrock FR [-1.0,0.0]:\")\n",
        "print(\"\\nAlgorithm output: \")\n",
        "x_ = FR(np.array([-1.0,0.0]), prob.f, prob.grad_f)\n",
        "print(f\"\\nactual minima: {prob.min_x}\")\n",
        "print(f\"\\nLast gradient norm: {norm(prob.grad_f(x_))}\")\n",
        "print(f\"\\nDifference to real solution: {norm(x_ - prob.min_x)}\")\n",
        "print(f\"\\nProblem rosenbrock FR [-1.0,0.0] approximated gradients:\")\n",
        "print(\"\\nAlgorithm output: \")\n",
        "x_ = FR(np.array([-1.0,0.0]), prob.f)\n",
        "print(f\"\\nactual minima: {prob.min_x}\")\n",
        "grad = approx_grad(prob.f)\n",
        "print(f\"\\nLast gradient norm: {norm(grad(x_))}\")\n",
        "print(f\"\\nDifference to real solution: {norm(x_ - prob.min_x)}\")\n",
        "\n",
        "prob = Problem()\n",
        "prob.rosenbrock()\n",
        "print(f\"\\nProblem rosenbrock:\")\n",
        "print(\"\\nAlgorithm output SR1 [-1.0,0.0]: \")\n",
        "x_ = SR1(np.array([-1.0,0.0]), prob.f, prob.grad_f)\n",
        "print(f\"\\nactual minima: {prob.min_x}\")\n",
        "print(f\"\\nLast gradient norm: {norm(prob.grad_f(x_))}\")\n",
        "print(f\"\\nDifference to real solution: {norm(x_ - prob.min_x)}\")\n",
        "print(f\"\\nProblem rosenbrock SR1 [-1.0,0.0] approximated gradients:\")\n",
        "print(\"\\nAlgorithm output: \")\n",
        "x_ = SR1(np.array([-1.0,0.0]), prob.f)\n",
        "print(f\"\\nactual minima: {prob.min_x}\")\n",
        "grad = approx_grad(prob.f)\n",
        "print(f\"\\nLast gradient norm: {norm(grad(x_))}\")\n",
        "print(f\"\\nDifference to real solution: {norm(x_ - prob.min_x)}\")"
      ]
    },
    {
      "cell_type": "markdown",
      "metadata": {
        "id": "PyH8r8IIc9hd",
        "pycharm": {
          "name": "#%% md\n"
        }
      },
      "source": [
        "**Rosenbrock [0,-1] starting point**"
      ]
    },
    {
      "cell_type": "code",
      "execution_count": null,
      "metadata": {
        "id": "oInw3wzKc9Xk",
        "pycharm": {
          "is_executing": true,
          "name": "#%%\n"
        }
      },
      "outputs": [],
      "source": [
        "prob = Problem()\n",
        "prob.rosenbrock()\n",
        "print(f\"\\nProblem rosenbrock steepest descent [0.0,-1.0]:\")\n",
        "print(\"\\nAlgorithm output: \")\n",
        "x_ = steepest_descent(np.array([0.0,-1.0]), prob.f, prob.grad_f)\n",
        "print(f\"\\nactual minima: {prob.min_x}\")\n",
        "print(f\"\\nLast gradient norm: {norm(prob.grad_f(x_))}\")\n",
        "print(f\"\\nDifference to real solution: {norm(x_ - prob.min_x)}\")\n",
        "print(f\"\\nProblem rosenbrock steepest descent [0.0,-1.0] approximated gradients:\")\n",
        "print(\"\\nAlgorithm output: \")\n",
        "x_ = steepest_descent(np.array([0.0,-1.0]), prob.f)\n",
        "print(f\"\\nactual minima: {prob.min_x}\")\n",
        "grad = approx_grad(prob.f)\n",
        "print(f\"\\nLast gradient norm: {norm(grad(x_))}\")\n",
        "print(f\"\\nDifference to real solution: {norm(x_ - prob.min_x)}\")\n",
        "\n",
        "prob = Problem()\n",
        "prob.rosenbrock()\n",
        "print(f\"\\nProblem rosenbrock newton method [0.0,-1.0]:\")\n",
        "print(\"\\nAlgorithm output: \")\n",
        "x_ = newton_method(np.array([0.0,-1.0]), prob.f, prob.grad_f, prob.hessian)\n",
        "print(f\"\\nactual minima: {prob.min_x}\")\n",
        "print(f\"\\nLast gradient norm: {norm(prob.grad_f(x_))}\")\n",
        "print(f\"\\nDifference to real solution: {norm(x_ - prob.min_x)}\")\n",
        "print(f\"\\nProblem rosenbrock newton method [0.0,-1.0] approximated gradients:\")\n",
        "print(\"\\nAlgorithm output: \")\n",
        "x_ = newton_method(np.array([0.0,-1.0]), prob.f)\n",
        "print(f\"\\nactual minima: {prob.min_x}\")\n",
        "grad = approx_grad(prob.f)\n",
        "print(f\"\\nLast gradient norm: {norm(grad(x_))}\")\n",
        "print(f\"\\nDifference to real solution: {norm(x_ - prob.min_x)}\")\n",
        "\n",
        "prob = Problem()\n",
        "prob.rosenbrock()\n",
        "print(f\"\\nProblem rosenbrock FR [0.0,-1.0]:\")\n",
        "print(\"\\nAlgorithm output: \")\n",
        "x_ = FR(np.array([0.0,-1.0]), prob.f, prob.grad_f)\n",
        "print(f\"\\nactual minima: {prob.min_x}\")\n",
        "print(f\"\\nLast gradient norm: {norm(prob.grad_f(x_))}\")\n",
        "print(f\"\\nDifference to real solution: {norm(x_ - prob.min_x)}\")\n",
        "print(f\"\\nProblem rosenbrock FR [0.0,-1.0] approximated gradients:\")\n",
        "print(\"\\nAlgorithm output: \")\n",
        "x_ = FR(np.array([0.0,-1.0]), prob.f)\n",
        "print(f\"\\nactual minima: {prob.min_x}\")\n",
        "grad = approx_grad(prob.f)\n",
        "print(f\"\\nLast gradient norm: {norm(grad(x_))}\")\n",
        "print(f\"\\nDifference to real solution: {norm(x_ - prob.min_x)}\")\n",
        "\n",
        "prob = Problem()\n",
        "prob.rosenbrock()\n",
        "print(f\"\\nProblem rosenbrock:\")\n",
        "print(\"\\nAlgorithm output SR1 [0.0,-1.0]: \")\n",
        "x_ = SR1(np.array([0.0,-1.0]), prob.f, prob.grad_f)\n",
        "print(f\"\\nactual minima: {prob.min_x}\")\n",
        "print(f\"\\nLast gradient norm: {norm(prob.grad_f(x_))}\")\n",
        "print(f\"\\nDifference to real solution: {norm(x_ - prob.min_x)}\")\n",
        "print(f\"\\nProblem rosenbrock SR1 [0.0,-1.0] approximated gradients:\")\n",
        "print(\"\\nAlgorithm output: \")\n",
        "x_ = SR1(np.array([0.0,-1.0]), prob.f)\n",
        "print(f\"\\nactual minima: {prob.min_x}\")\n",
        "grad = approx_grad(prob.f)\n",
        "print(f\"\\nLast gradient norm: {norm(grad(x_))}\")\n",
        "print(f\"\\nDifference to real solution: {norm(x_ - prob.min_x)}\")"
      ]
    },
    {
      "cell_type": "markdown",
      "metadata": {
        "id": "Ivj3CII8dacl",
        "pycharm": {
          "name": "#%% md\n"
        }
      },
      "source": [
        "**Function 2 [-0.2,1.2] starting point**"
      ]
    },
    {
      "cell_type": "code",
      "execution_count": null,
      "metadata": {
        "id": "rvbNrGZKdaS4",
        "pycharm": {
          "is_executing": true,
          "name": "#%%\n"
        }
      },
      "outputs": [],
      "source": [
        "prob = Problem()\n",
        "prob.func_2()\n",
        "print(f\"\\nProblem func_2 [-0.2,1.2] steepest descent:\")\n",
        "print(\"\\nAlgorithm output: \")\n",
        "x_ = steepest_descent(np.array([-0.2,1.2]), prob.f, prob.grad_f)\n",
        "print(f\"\\nactual minima: {prob.min_x}\")\n",
        "print(f\"\\nLast gradient norm: {norm(prob.grad_f(x_))}\")\n",
        "print(f\"\\nDifference to real solution: {norm(x_ - prob.min_x[1])}\")\n",
        "print(f\"\\nProblem func_2 [-0.2,1.2] steepest descent approximate gradient:\")\n",
        "print(\"\\nAlgorithm output: \")\n",
        "x_ = steepest_descent(np.array([-0.2,1.2]), prob.f)\n",
        "print(f\"\\nactual minima: {prob.min_x}\")\n",
        "grad = approx_grad(prob.f)\n",
        "print(f\"\\nLast gradient norm: {norm(prob.grad_f(x_))}\")\n",
        "print(f\"\\nDifference to real solution: {norm(x_ - prob.min_x[1])}\")\n",
        "\n",
        "\n",
        "prob = Problem()\n",
        "prob.func_2()\n",
        "print(f\"\\nProblem func_2 [-0.2,1.2] newton method:\")\n",
        "print(\"\\nAlgorithm output: \")\n",
        "x_ = newton_method(np.array([-0.2,1.2]), prob.f, prob.grad_f, prob.hessian)\n",
        "print(f\"\\nactual minima: {prob.min_x}\")\n",
        "print(f\"\\nLast gradient norm: {norm(prob.grad_f(x_))}\")\n",
        "print(f\"\\nDifference to real solution: {norm(x_ - prob.min_x[1])}\")\n",
        "print(f\"\\nProblem func_2 [-0.2,1.2] newton method approximate gradient:\")\n",
        "print(\"\\nAlgorithm output: \")\n",
        "x_ = newton_method(np.array([-0.2,1.2]), prob.f)\n",
        "print(f\"\\nactual minima: {prob.min_x}\")\n",
        "grad = approx_grad(prob.f)\n",
        "print(f\"\\nLast gradient norm: {norm(prob.grad_f(x_))}\")\n",
        "print(f\"\\nDifference to real solution: {norm(x_ - prob.min_x[0])}\")\n",
        "\n",
        "prob = Problem()\n",
        "prob.func_2()\n",
        "print(f\"\\nProblem func_2 [-0.2,1.2] FR:\")\n",
        "print(\"\\nAlgorithm output: \")\n",
        "x_ = FR(np.array([-0.2,1.2]), prob.f, prob.grad_f)\n",
        "print(f\"\\nactual minima: {prob.min_x}\")\n",
        "print(f\"\\nLast gradient norm: {norm(prob.grad_f(x_))}\")\n",
        "print(f\"\\nDifference to real solution: {norm(x_ - prob.min_x[1])}\")\n",
        "print(f\"\\nProblem func_2 [-0.2,1.2] FR approximate gradient:\")\n",
        "print(\"\\nAlgorithm output: \")\n",
        "x_ = FR(np.array([-0.2,1.2]), prob.f)\n",
        "print(f\"\\nactual minima: {prob.min_x}\")\n",
        "grad = approx_grad(prob.f)\n",
        "print(f\"\\nLast gradient norm: {norm(prob.grad_f(x_))}\")\n",
        "print(f\"\\nDifference to real solution: {norm(x_ - prob.min_x[0])}\")\n",
        "\n",
        "prob = Problem()\n",
        "prob.func_2()\n",
        "print(f\"\\nProblem func_2:\")\n",
        "print(\"\\nAlgorithm output SR1: \")\n",
        "x_ = SR1(np.array([-0.2,1.2]), prob.f, prob.grad_f)\n",
        "print(f\"\\nactual minima: {prob.min_x}\")\n",
        "print(f\"\\nLast gradient norm: {norm(prob.grad_f(x_))}\")\n",
        "print(f\"\\nDifference to real solution: {norm(x_ - prob.min_x[0])}\")\n",
        "print(f\"\\nProblem func_2 [-0.2,1.2] SR1 approximate gradient:\")\n",
        "print(\"\\nAlgorithm output: \")\n",
        "x_ = SR1(np.array([-0.2,1.2]), prob.f)\n",
        "print(f\"\\nactual minima: {prob.min_x}\")\n",
        "grad = approx_grad(prob.f)\n",
        "print(f\"\\nLast gradient norm: {norm(prob.grad_f(x_))}\")\n",
        "print(f\"\\nDifference to real solution: {norm(x_ - prob.min_x[0])}\")"
      ]
    },
    {
      "cell_type": "markdown",
      "metadata": {
        "id": "CkJky8GNdo_N",
        "pycharm": {
          "name": "#%% md\n"
        }
      },
      "source": [
        "**Function 2 [3.8,0.1] starting point**"
      ]
    },
    {
      "cell_type": "code",
      "execution_count": null,
      "metadata": {
        "id": "Bg-qTessdpI0",
        "pycharm": {
          "is_executing": true,
          "name": "#%%\n"
        }
      },
      "outputs": [],
      "source": [
        "prob = Problem()\n",
        "prob.func_2()\n",
        "print(f\"\\nProblem func_2 [3.8,0.1] steepest descent:\")\n",
        "print(\"\\nAlgorithm output: \")\n",
        "x_ = steepest_descent(np.array([3.8,0.1]), prob.f, prob.grad_f)\n",
        "print(f\"\\nactual minima: {prob.min_x}\")\n",
        "print(f\"\\nLast gradient norm: {norm(prob.grad_f(x_))}\")\n",
        "print(f\"\\nDifference to real solution: {norm(x_ - prob.min_x[1])}\")\n",
        "print(f\"\\nProblem func_2 [3.8,0.1] steepest descent approximate gradient:\")\n",
        "print(\"\\nAlgorithm output: \")\n",
        "x_ = steepest_descent(np.array([3.8,0.1]), prob.f)\n",
        "print(f\"\\nactual minima: {prob.min_x}\")\n",
        "grad = approx_grad(prob.f)\n",
        "print(f\"\\nLast gradient norm: {norm(prob.grad_f(x_))}\")\n",
        "print(f\"\\nDifference to real solution: {norm(x_ - prob.min_x[1])}\")\n",
        "\n",
        "\n",
        "prob = Problem()\n",
        "prob.func_2()\n",
        "print(f\"\\nProblem func_2 [3.8,0.1] newton method:\")\n",
        "print(\"\\nAlgorithm output: \")\n",
        "x_ = newton_method(np.array([3.8,0.1]), prob.f, prob.grad_f, prob.hessian)\n",
        "print(f\"\\nactual minima: {prob.min_x}\")\n",
        "print(f\"\\nLast gradient norm: {norm(prob.grad_f(x_))}\")\n",
        "print(f\"\\nDifference to real solution: {norm(x_ - prob.min_x[1])}\")\n",
        "print(f\"\\nProblem func_2 [3.8,0.1] newton method approximate gradient:\")\n",
        "print(\"\\nAlgorithm output: \")\n",
        "x_ = newton_method(np.array([3.8,0.1]), prob.f)\n",
        "print(f\"\\nactual minima: {prob.min_x}\")\n",
        "grad = approx_grad(prob.f)\n",
        "print(f\"\\nLast gradient norm: {norm(prob.grad_f(x_))}\")\n",
        "print(f\"\\nDifference to real solution: {norm(x_ - prob.min_x[1])}\")\n",
        "\n",
        "prob = Problem()\n",
        "prob.func_2()\n",
        "print(f\"\\nProblem func_2 [3.8,0.1] FR:\")\n",
        "print(\"\\nAlgorithm output: \")\n",
        "x_ = FR(np.array([3.8,0.1]), prob.f, prob.grad_f)\n",
        "print(f\"\\nactual minima: {prob.min_x}\")\n",
        "print(f\"\\nLast gradient norm: {norm(prob.grad_f(x_))}\")\n",
        "print(f\"\\nDifference to real solution: {norm(x_ - prob.min_x[1])}\")\n",
        "print(f\"\\nProblem func_2 [3.8,0.1] FR approximate gradient:\")\n",
        "print(\"\\nAlgorithm output: \")\n",
        "x_ = FR(np.array([3.8,0.1]), prob.f)\n",
        "print(f\"\\nactual minima: {prob.min_x}\")\n",
        "grad = approx_grad(prob.f)\n",
        "print(f\"\\nLast gradient norm: {norm(prob.grad_f(x_))}\")\n",
        "print(f\"\\nDifference to real solution: {norm(x_ - prob.min_x[0])}\")\n",
        "\n",
        "prob = Problem()\n",
        "prob.func_2()\n",
        "print(f\"\\nProblem func_2:\")\n",
        "print(\"\\nAlgorithm output SR1: \")\n",
        "x_ = SR1(np.array([3.8,0.1]), prob.f, prob.grad_f)\n",
        "print(f\"\\nactual minima: {prob.min_x}\")\n",
        "print(f\"\\nLast gradient norm: {norm(prob.grad_f(x_))}\")\n",
        "print(f\"\\nDifference to real solution: {norm(x_ - prob.min_x[1])}\")\n",
        "print(f\"\\nProblem func_2 [3.8,0.1] SR1 approximate gradient:\")\n",
        "print(\"\\nAlgorithm output: \")\n",
        "x_ = SR1(np.array([3.8,0.1]), prob.f)\n",
        "print(f\"\\nactual minima: {prob.min_x}\")\n",
        "grad = approx_grad(prob.f)\n",
        "print(f\"\\nLast gradient norm: {norm(prob.grad_f(x_))}\")\n",
        "print(f\"\\nDifference to real solution: {norm(x_ - prob.min_x[1])}\")"
      ]
    },
    {
      "cell_type": "markdown",
      "metadata": {
        "id": "ziFsa2GHdzt8",
        "pycharm": {
          "name": "#%% md\n"
        }
      },
      "source": [
        "**Function 2 [0,0] starting point**"
      ]
    },
    {
      "cell_type": "code",
      "execution_count": null,
      "metadata": {
        "id": "gJG0EmTndz1U",
        "pycharm": {
          "is_executing": true,
          "name": "#%%\n"
        }
      },
      "outputs": [],
      "source": [
        "prob = Problem()\n",
        "prob.func_2()\n",
        "print(f\"\\nProblem func_2 [0.0,0.0] steepest descent:\")\n",
        "print(\"\\nAlgorithm output: \")\n",
        "x_ = steepest_descent(np.array([0.0,0.0]), prob.f, prob.grad_f)\n",
        "print(f\"\\nactual minima: {prob.min_x}\")\n",
        "print(f\"\\nLast gradient norm: {norm(prob.grad_f(x_))}\")\n",
        "print(f\"\\nDifference to real solution: {norm(x_ - prob.min_x[1])}\")\n",
        "print(f\"\\nProblem func_2 [0.0,0.0] steepest descent approximate gradient:\")\n",
        "print(\"\\nAlgorithm output: \")\n",
        "x_ = steepest_descent(np.array([0.0,0.0]), prob.f)\n",
        "print(f\"\\nactual minima: {prob.min_x}\")\n",
        "grad = approx_grad(prob.f)\n",
        "print(f\"\\nLast gradient norm: {norm(prob.grad_f(x_))}\")\n",
        "print(f\"\\nDifference to real solution: {norm(x_ - prob.min_x[1])}\")\n",
        "\n",
        "\n",
        "prob = Problem()\n",
        "prob.func_2()\n",
        "#This raises linalgerror for singular matrix\n",
        "\"\"\"print(f\"\\nProblem func_2 [0.0,0.0] newton method:\")\n",
        "print(\"\\nAlgorithm output: \")\n",
        "x_ = newton_method(np.array([0.0,0.0]), prob.f, prob.grad_f, prob.hessian)\n",
        "print(f\"\\nactual minima: {prob.min_x}\")\n",
        "print(f\"\\nLast gradient norm: {norm(prob.grad_f(x_))}\")\n",
        "print(f\"\\nDifference to real solution: {norm(x_ - prob.min_x[1])}\")\"\"\"\n",
        "print(f\"\\nProblem func_2 [0.0,0.0] newton method approximate gradient:\")\n",
        "print(\"\\nAlgorithm output: \")\n",
        "x_ = newton_method(np.array([0.0,0.0]), prob.f)\n",
        "print(f\"\\nactual minima: {prob.min_x}\")\n",
        "grad = approx_grad(prob.f)\n",
        "print(f\"\\nLast gradient norm: {norm(prob.grad_f(x_))}\")\n",
        "print(f\"\\nDifference to real solution: {norm(x_ - prob.min_x[0])}\")\n",
        "\n",
        "prob = Problem()\n",
        "prob.func_2()\n",
        "print(f\"\\nProblem func_2 [0.0,0.0] FR:\")\n",
        "print(\"\\nAlgorithm output: \")\n",
        "x_ = FR(np.array([0.0,0.0]), prob.f, prob.grad_f)\n",
        "print(f\"\\nactual minima: {prob.min_x}\")\n",
        "print(f\"\\nLast gradient norm: {norm(prob.grad_f(x_))}\")\n",
        "print(f\"\\nDifference to real solution: {norm(x_ - prob.min_x[0])}\")\n",
        "print(f\"\\nProblem func_2 [0.0,0.0] FR approximate gradient:\")\n",
        "print(\"\\nAlgorithm output: \")\n",
        "x_ = FR(np.array([0.0,0.0]), prob.f)\n",
        "print(f\"\\nactual minima: {prob.min_x}\")\n",
        "grad = approx_grad(prob.f)\n",
        "print(f\"\\nLast gradient norm: {norm(prob.grad_f(x_))}\")\n",
        "print(f\"\\nDifference to real solution: {norm(x_ - prob.min_x[0])}\")\n",
        "\n",
        "prob = Problem()\n",
        "prob.func_2()\n",
        "print(f\"\\nProblem func_2:\")\n",
        "print(\"\\nAlgorithm output SR1: \")\n",
        "x_ = SR1(np.array([0.0,0.0]), prob.f, prob.grad_f)\n",
        "print(f\"\\nactual minima: {prob.min_x}\")\n",
        "print(f\"\\nLast gradient norm: {norm(prob.grad_f(x_))}\")\n",
        "print(f\"\\nDifference to real solution: {norm(x_ - prob.min_x[0])}\")\n",
        "print(f\"\\nProblem func_2 [0.0,0.0] SR1 approximate gradient:\")\n",
        "print(\"\\nAlgorithm output: \")\n",
        "x_ = SR1(np.array([0.0,0.0]), prob.f)\n",
        "print(f\"\\nactual minima: {prob.min_x}\")\n",
        "grad = approx_grad(prob.f)\n",
        "print(f\"\\nLast gradient norm: {norm(prob.grad_f(x_))}\")\n",
        "print(f\"\\nDifference to real solution: {norm(x_ - prob.min_x[0])}\")"
      ]
    },
    {
      "cell_type": "markdown",
      "metadata": {
        "id": "0DQ1Zg6ZdK6F",
        "pycharm": {
          "name": "#%% md\n"
        }
      },
      "source": [
        "**Function 2 [-1,0] starting point**"
      ]
    },
    {
      "cell_type": "code",
      "execution_count": null,
      "metadata": {
        "id": "-m41Z1lwTrSe",
        "pycharm": {
          "is_executing": true,
          "name": "#%%\n"
        }
      },
      "outputs": [],
      "source": [
        "prob = Problem()\n",
        "prob.func_2()\n",
        "print(f\"\\nProblem func_2 [-1,0] steepest descent:\")\n",
        "print(\"\\nAlgorithm output: \")\n",
        "x_ = steepest_descent(np.array([-1,0]), prob.f, prob.grad_f)\n",
        "print(f\"\\nactual minima: {prob.min_x}\")\n",
        "print(f\"\\nLast gradient norm: {norm(prob.grad_f(x_))}\")\n",
        "print(f\"\\nDifference to real solution: {norm(x_ - prob.min_x[0])}\")\n",
        "print(f\"\\nProblem func_2 [-1,0] steepest descent approximate gradient:\")\n",
        "print(\"\\nAlgorithm output: \")\n",
        "x_ = steepest_descent(np.array([-1,0]), prob.f)\n",
        "print(f\"\\nactual minima: {prob.min_x}\")\n",
        "grad = approx_grad(prob.f)\n",
        "print(f\"\\nLast gradient norm: {norm(prob.grad_f(x_))}\")\n",
        "print(f\"\\nDifference to real solution: {norm(x_ - prob.min_x[0])}\")\n",
        "\n",
        "\n",
        "prob = Problem()\n",
        "prob.func_2()\n",
        "print(f\"\\nProblem func_2 [-1,0] newton method:\")\n",
        "print(\"\\nAlgorithm output: \")\n",
        "x_ = newton_method(np.array([-1,0]), prob.f, prob.grad_f, prob.hessian)\n",
        "print(f\"\\nactual minima: {prob.min_x}\")\n",
        "print(f\"\\nLast gradient norm: {norm(prob.grad_f(x_))}\")\n",
        "print(f\"\\nDifference to real solution: {norm(x_ - prob.min_x[1])}\")\n",
        "print(f\"\\nProblem func_2 [-1,0] newton method approximate gradient:\")\n",
        "print(\"\\nAlgorithm output: \")\n",
        "x_ = newton_method(np.array([-1,0]), prob.f)\n",
        "print(f\"\\nactual minima: {prob.min_x}\")\n",
        "grad = approx_grad(prob.f)\n",
        "print(f\"\\nLast gradient norm: {norm(prob.grad_f(x_))}\")\n",
        "print(f\"\\nDifference to real solution: {norm(x_ - prob.min_x[0])}\")\n",
        "\n",
        "prob = Problem()\n",
        "prob.func_2()\n",
        "print(f\"\\nProblem func_2 [-1,0] FR:\")\n",
        "print(\"\\nAlgorithm output: \")\n",
        "x_ = FR(np.array([-1,0]), prob.f, prob.grad_f)\n",
        "print(f\"\\nactual minima: {prob.min_x}\")\n",
        "print(f\"\\nLast gradient norm: {norm(prob.grad_f(x_))}\")\n",
        "print(f\"\\nDifference to real solution: {norm(x_ - prob.min_x[0])}\")\n",
        "print(f\"\\nProblem func_2 [-1,0] FR approximate gradient:\")\n",
        "print(\"\\nAlgorithm output: \")\n",
        "x_ = FR(np.array([-1,0]), prob.f)\n",
        "print(f\"\\nactual minima: {prob.min_x}\")\n",
        "grad = approx_grad(prob.f)\n",
        "print(f\"\\nLast gradient norm: {norm(prob.grad_f(x_))}\")\n",
        "print(f\"\\nDifference to real solution: {norm(x_ - prob.min_x[0])}\")\n",
        "\n",
        "prob = Problem()\n",
        "prob.func_2()\n",
        "print(f\"\\nProblem func_2:\")\n",
        "print(\"\\nAlgorithm output SR1: \")\n",
        "x_ = SR1(np.array([-1,0]), prob.f, prob.grad_f)\n",
        "print(f\"\\nactual minima: {prob.min_x}\")\n",
        "print(f\"\\nLast gradient norm: {norm(prob.grad_f(x_))}\")\n",
        "print(f\"\\nDifference to real solution: {norm(x_ - prob.min_x[0])}\")\n",
        "print(f\"\\nProblem func_2 [-1,0] SR1 approximate gradient:\")\n",
        "print(\"\\nAlgorithm output: \")\n",
        "x_ = SR1(np.array([-1,0]), prob.f)\n",
        "print(f\"\\nactual minima: {prob.min_x}\")\n",
        "grad = approx_grad(prob.f)\n",
        "print(f\"\\nLast gradient norm: {norm(prob.grad_f(x_))}\")\n",
        "print(f\"\\nDifference to real solution: {norm(x_ - prob.min_x[0])}\")"
      ]
    },
    {
      "cell_type": "markdown",
      "metadata": {
        "id": "Sav7POtNd8v-",
        "pycharm": {
          "name": "#%% md\n"
        }
      },
      "source": [
        "**Function 2 [0,-1] starting point**"
      ]
    },
    {
      "cell_type": "code",
      "execution_count": null,
      "metadata": {
        "id": "4chOrUdBhrVb",
        "pycharm": {
          "is_executing": true,
          "name": "#%%\n"
        }
      },
      "outputs": [],
      "source": [
        "prob = Problem()\n",
        "prob.func_2()\n",
        "print(f\"\\nProblem func_2 [0.0,-1.0] steepest descent:\")\n",
        "print(\"\\nAlgorithm output: \")\n",
        "x_ = steepest_descent(np.array([0.0,-1.0]), prob.f, prob.grad_f)\n",
        "print(f\"\\nactual minima: {prob.min_x}\")\n",
        "print(f\"\\nLast gradient norm: {norm(prob.grad_f(x_))}\")\n",
        "print(f\"\\nDifference to real solution: {norm(x_ - prob.min_x[1])}\")\n",
        "print(f\"\\nProblem func_2 [0.0,-1.0] steepest descent approximate gradient:\")\n",
        "print(\"\\nAlgorithm output: \")\n",
        "x_ = steepest_descent(np.array([0.0,-1.0]), prob.f)\n",
        "print(f\"\\nactual minima: {prob.min_x}\")\n",
        "grad = approx_grad(prob.f)\n",
        "print(f\"\\nLast gradient norm: {norm(prob.grad_f(x_))}\")\n",
        "print(f\"\\nDifference to real solution: {norm(x_ - prob.min_x[1])}\")\n",
        "\n",
        "\n",
        "prob = Problem()\n",
        "prob.func_2()\n",
        "print(f\"\\nProblem func_2 [0.0,-1.0] newton method:\")\n",
        "print(\"\\nAlgorithm output: \")\n",
        "x_ = newton_method(np.array([0.0,-1.0]), prob.f, prob.grad_f, prob.hessian)\n",
        "print(f\"\\nactual minima: {prob.min_x}\")\n",
        "print(f\"\\nLast gradient norm: {norm(prob.grad_f(x_))}\")\n",
        "print(f\"\\nDifference to real solution: {norm(x_ - prob.min_x[0])}\")\n",
        "#this raises linalgerror singular matrix\n",
        "\"\"\"print(f\"\\nProblem func_2 [0.0,-1.0] newton method approximate gradient:\")\n",
        "print(\"\\nAlgorithm output: \")\n",
        "x_ = newton_method(np.array([0.0,-1.0]), prob.f)\n",
        "print(f\"\\nactual minima: {prob.min_x}\")\n",
        "grad = approx_grad(prob.f)\n",
        "print(f\"\\nLast gradient norm: {norm(prob.grad_f(x_))}\")\n",
        "print(f\"\\nDifference to real solution: {norm(x_ - prob.min_x[0])}\")\"\"\"\n",
        "\n",
        "prob = Problem()\n",
        "prob.func_2()\n",
        "print(f\"\\nProblem func_2 [0.0,-1.0] FR:\")\n",
        "print(\"\\nAlgorithm output: \")\n",
        "x_ = FR(np.array([0.0,-1.0]), prob.f, prob.grad_f)\n",
        "print(f\"\\nactual minima: {prob.min_x}\")\n",
        "print(f\"\\nLast gradient norm: {norm(prob.grad_f(x_))}\")\n",
        "print(f\"\\nDifference to real solution: {norm(x_ - prob.min_x[0])}\")\n",
        "print(f\"\\nProblem func_2 [0.0,-1.0] FR approximate gradient:\")\n",
        "print(\"\\nAlgorithm output: \")\n",
        "x_ = FR(np.array([0.0,-1.0]), prob.f)\n",
        "print(f\"\\nactual minima: {prob.min_x}\")\n",
        "grad = approx_grad(prob.f)\n",
        "print(f\"\\nLast gradient norm: {norm(prob.grad_f(x_))}\")\n",
        "print(f\"\\nDifference to real solution: {norm(x_ - prob.min_x[1])}\")\n",
        "\n",
        "prob = Problem()\n",
        "prob.func_2()\n",
        "print(f\"\\nProblem func_2:\")\n",
        "print(\"\\nAlgorithm output SR1: \")\n",
        "x_ = SR1(np.array([0.0,-1.0]), prob.f, prob.grad_f)\n",
        "print(f\"\\nactual minima: {prob.min_x}\")\n",
        "print(f\"\\nLast gradient norm: {norm(prob.grad_f(x_))}\")\n",
        "print(f\"\\nDifference to real solution: {norm(x_ - prob.min_x[0])}\")\n",
        "print(f\"\\nProblem func_2 [0.0,-1.0] SR1 approximate gradient:\")\n",
        "print(\"\\nAlgorithm output: \")\n",
        "x_ = SR1(np.array([0.0,-1.0]), prob.f)\n",
        "print(f\"\\nactual minima: {prob.min_x}\")\n",
        "grad = approx_grad(prob.f)\n",
        "print(f\"\\nLast gradient norm: {norm(prob.grad_f(x_))}\")\n",
        "print(f\"\\nDifference to real solution: {norm(x_ - prob.min_x[0])}\")"
      ]
    },
    {
      "cell_type": "code",
      "execution_count": null,
      "metadata": {
        "id": "TOh95c0NmZ2b",
        "pycharm": {
          "is_executing": true,
          "name": "#%%\n"
        }
      },
      "outputs": [],
      "source": [
        ""
      ]
    }
  ],
  "metadata": {
    "colab": {
      "name": "Project1_phase2.ipynb",
      "provenance": []
    },
    "kernelspec": {
      "display_name": "Python 3 (ipykernel)",
      "language": "python",
      "name": "python3"
    },
    "language_info": {
      "codemirror_mode": {
        "name": "ipython",
        "version": 3
      },
      "file_extension": ".py",
      "mimetype": "text/x-python",
      "name": "python",
      "nbconvert_exporter": "python",
      "pygments_lexer": "ipython3",
      "version": "3.10.4"
    }
  },
  "nbformat": 4,
  "nbformat_minor": 0
}